{
  "nbformat": 4,
  "nbformat_minor": 0,
  "metadata": {
    "colab": {
      "name": "Mushroom Binary Classification (edible or not).ipynb",
      "provenance": [],
      "collapsed_sections": [
        "S7eaojUgJfWx",
        "qK4VkMzi4JuX",
        "AIwLkv0u0nQt",
        "cbfJ1Guevbk8",
        "gT-yWrymEK_4",
        "nKL7cjByIZ84",
        "C7o_2EmVIwA9"
      ],
      "mount_file_id": "1Oz0sw_RxHuQQJ-p4xC7jLAM_PVnDGSnF",
      "authorship_tag": "ABX9TyMhgpLJPBWx1YpZwlto+iol"
    },
    "kernelspec": {
      "name": "python3",
      "display_name": "Python 3"
    },
    "language_info": {
      "name": "python"
    },
    "accelerator": "GPU"
  },
  "cells": [
    {
      "cell_type": "markdown",
      "metadata": {
        "id": "nX1mP1IKoxQU"
      },
      "source": [
        "Here we will create our model and try to train it\n",
        "\n",
        "---\n",
        "\n",
        "As a pre-trained model Xception was chosen"
      ]
    },
    {
      "cell_type": "markdown",
      "metadata": {
        "id": "S7eaojUgJfWx"
      },
      "source": [
        "## Data Manipulation"
      ]
    },
    {
      "cell_type": "markdown",
      "metadata": {
        "id": "qK4VkMzi4JuX"
      },
      "source": [
        "### Data Preparation"
      ]
    },
    {
      "cell_type": "markdown",
      "metadata": {
        "id": "xQZFyh0J554Y"
      },
      "source": [
        "As the idea of the project is to detect whether the mushroom is edible or not, poisonous and inedible mushrooms will be labeled as inedible together."
      ]
    },
    {
      "cell_type": "code",
      "metadata": {
        "id": "AYJMY6FD5rfz"
      },
      "source": [
        "! mkdir '/content/drive/MyDrive/Mushrooms Binary Classification (edible & not)/Prepared Data'\n",
        "! mkdir '/content/drive/MyDrive/Mushrooms Binary Classification (edible & not)/Prepared Data/Edible'\n",
        "! mkdir '/content/drive/MyDrive/Mushrooms Binary Classification (edible & not)/Prepared Data/Inedible'"
      ],
      "execution_count": null,
      "outputs": []
    },
    {
      "cell_type": "code",
      "metadata": {
        "id": "ZkuO5Qqe4Llv"
      },
      "source": [
        "import os\n",
        "from shutil import copy\n",
        "\n",
        "target_dir = '/content/drive/MyDrive/Mushrooms Binary Classification (edible & not)/Prepared Data'\n",
        "dir = '/content/drive/MyDrive/Mushrooms Binary Classification (edible & not)'\n",
        "\n",
        "ed = '/Edible'\n",
        "ined = '/Inedible'\n",
        "\n",
        "for folder_name in os.listdir(dir + ed):\n",
        "    for image in os.listdir(dir + ed + '/' + folder_name):\n",
        "        copy(dir + ed + '/' + folder_name + '/' + image,\n",
        "             target_dir + ed)\n",
        "        \n",
        "for folder_name in os.listdir(dir + ined):\n",
        "    for image in os.listdir(dir + ined + '/' + folder_name):\n",
        "        copy(dir + ined + '/' + folder_name + '/' + image,\n",
        "             target_dir + ined)"
      ],
      "execution_count": null,
      "outputs": []
    },
    {
      "cell_type": "code",
      "metadata": {
        "id": "26bIOU80crvX"
      },
      "source": [
        "target_dir = '/content/drive/MyDrive/Mushrooms Binary Classification (edible & not)/Prepared Data'\n",
        "dir = '/content/drive/MyDrive/Mushrooms Binary Classification (edible & not)'\n",
        "\n",
        "ined = '/Inedible'\n",
        "pois = '/Poisonous'\n",
        "\n",
        "for folder_name in os.listdir(dir + pois):\n",
        "    for image in os.listdir(dir + pois + '/' + folder_name):\n",
        "        copy(dir + pois + '/' + folder_name + '/' + image,\n",
        "             target_dir + ined)"
      ],
      "execution_count": null,
      "outputs": []
    },
    {
      "cell_type": "code",
      "metadata": {
        "id": "a0NhPP1T7Mht",
        "colab": {
          "base_uri": "https://localhost:8080/"
        },
        "outputId": "f00f1f03-ed50-4a8a-af6e-524cd09fd5b8"
      },
      "source": [
        "import os\n",
        "\n",
        "print('Total number of pictures of edible mushrooms:', len(os.listdir(\n",
        "    '/content/drive/MyDrive/Mushrooms Binary Classification (edible & not)/Prepared Data/Edible')))\n",
        "\n",
        "print('Total number of pictures of inedible mushrooms:', len(os.listdir(\n",
        "    '/content/drive/MyDrive/Mushrooms Binary Classification (edible & not)/Prepared Data/Inedible')))"
      ],
      "execution_count": null,
      "outputs": [
        {
          "output_type": "stream",
          "name": "stdout",
          "text": [
            "Total number of pictures of edible mushrooms: 1479\n",
            "Total number of pictures of inedible mushrooms: 2705\n"
          ]
        }
      ]
    },
    {
      "cell_type": "markdown",
      "metadata": {
        "id": "AIwLkv0u0nQt"
      },
      "source": [
        "### Here we will split our data into train, validation and test"
      ]
    },
    {
      "cell_type": "markdown",
      "metadata": {
        "id": "sB1SOnPQxGc9"
      },
      "source": [
        "**Train:** 750 edible, 1500 inedible\n",
        "\n",
        "\n",
        "---\n",
        "\n",
        "\n",
        "**Validation:** 400 edible, 800 inedible\n",
        "\n",
        "\n",
        "---\n",
        "\n",
        "\n",
        "**Test:** 329 edible, 405 inedible"
      ]
    },
    {
      "cell_type": "code",
      "metadata": {
        "id": "sZz9EsMozI09"
      },
      "source": [
        "! mkdir '/content/drive/MyDrive/Mushrooms Binary Classification (edible & not)/Prepared Data/train'\n",
        "! mkdir '/content/drive/MyDrive/Mushrooms Binary Classification (edible & not)/Prepared Data/train/edible'\n",
        "! mkdir '/content/drive/MyDrive/Mushrooms Binary Classification (edible & not)/Prepared Data/train/inedible'\n",
        "\n",
        "! mkdir '/content/drive/MyDrive/Mushrooms Binary Classification (edible & not)/Prepared Data/validation'\n",
        "! mkdir '/content/drive/MyDrive/Mushrooms Binary Classification (edible & not)/Prepared Data/validation/edible'\n",
        "! mkdir '/content/drive/MyDrive/Mushrooms Binary Classification (edible & not)/Prepared Data/validation/inedible'\n",
        "\n",
        "! mkdir '/content/drive/MyDrive/Mushrooms Binary Classification (edible & not)/Prepared Data/test'\n",
        "! mkdir '/content/drive/MyDrive/Mushrooms Binary Classification (edible & not)/Prepared Data/test/edible'\n",
        "! mkdir '/content/drive/MyDrive/Mushrooms Binary Classification (edible & not)/Prepared Data/test/inedible'"
      ],
      "execution_count": null,
      "outputs": []
    },
    {
      "cell_type": "code",
      "metadata": {
        "id": "IHNyxuWx4MPl"
      },
      "source": [
        "import os, shutil\n",
        "\n",
        "original_dataset_dir_ed = '/content/drive/MyDrive/Mushrooms Binary Classification (edible & not)/Prepared Data/Edible'\n",
        "original_dataset_dir_ined = '/content/drive/MyDrive/Mushrooms Binary Classification (edible & not)/Prepared Data/Inedible'\n",
        "base_dir = '/content/drive/MyDrive/Mushrooms Binary Classification (edible & not)/Prepared Data'\n",
        "\n",
        "train_dir = os.path.join(base_dir, 'train')\n",
        "validation_dir = os.path.join(base_dir, 'validation')\n",
        "test_dir = os.path.join(base_dir, 'test')\n",
        "\n",
        "train_ed_dir = os.path.join(train_dir, 'edible')\n",
        "train_ined_dir = os.path.join(train_dir, 'inedible')\n",
        "validation_ed_dir = os.path.join(validation_dir, 'edible')\n",
        "validation_ined_dir = os.path.join(validation_dir, 'inedible')\n",
        "test_ed_dir = os.path.join(test_dir, 'edible')\n",
        "test_ined_dir = os.path.join(test_dir, 'inedible')"
      ],
      "execution_count": null,
      "outputs": []
    },
    {
      "cell_type": "markdown",
      "metadata": {
        "id": "vYnJ4p5w0wjz"
      },
      "source": [
        "First we **shuffle** the data and only then distribute it into folders"
      ]
    },
    {
      "cell_type": "code",
      "metadata": {
        "id": "njahnckA4MRe"
      },
      "source": [
        "import numpy as np\n",
        "\n",
        "images_list = os.listdir(original_dataset_dir_ed)\n",
        "images_shuffled = np.random.permutation(images_list)\n",
        "\n",
        "for i in range(750):\n",
        "    img_name = images_shuffled[i]\n",
        "    shutil.copy(original_dataset_dir_ed + '/' + img_name,\n",
        "                train_ed_dir)\n",
        "    \n",
        "for i in range(400):\n",
        "    img_name = images_shuffled[i]\n",
        "    shutil.copy(original_dataset_dir_ed + '/' + img_name,\n",
        "                validation_ed_dir)\n",
        "    \n",
        "for i in range(329):\n",
        "    img_name = images_shuffled[i]\n",
        "    shutil.copy(original_dataset_dir_ed + '/' + img_name,\n",
        "                test_ed_dir)"
      ],
      "execution_count": null,
      "outputs": []
    },
    {
      "cell_type": "code",
      "metadata": {
        "id": "tzXaZt9n4Lns"
      },
      "source": [
        "images_list = os.listdir(original_dataset_dir_ined)\n",
        "images_shuffled = np.random.permutation(images_list)\n",
        "\n",
        "for i in range(1500):\n",
        "    img_name = images_shuffled[i]\n",
        "    shutil.copy(original_dataset_dir_ined + '/' + img_name,\n",
        "                train_ined_dir)\n",
        "    \n",
        "for i in range(800):\n",
        "    img_name = images_shuffled[i]\n",
        "    shutil.copy(original_dataset_dir_ined + '/' + img_name,\n",
        "                validation_ined_dir)\n",
        "    \n",
        "for i in range(405):\n",
        "    img_name = images_shuffled[i]\n",
        "    shutil.copy(original_dataset_dir_ined + '/' + img_name,\n",
        "                test_ined_dir)"
      ],
      "execution_count": null,
      "outputs": []
    },
    {
      "cell_type": "code",
      "metadata": {
        "id": "IEqW6QoM4LqY",
        "colab": {
          "base_uri": "https://localhost:8080/"
        },
        "outputId": "be1c88e1-7585-4352-a53b-84b33eb1046d"
      },
      "source": [
        "print('total training edible mushrooms images:', len(os.listdir(train_ed_dir)))\n",
        "print('total training inedible mushrooms images:', len(os.listdir(train_ined_dir)))\n",
        "print('total validation edible mushrooms images:', len(os.listdir(validation_ed_dir)))\n",
        "print('total validation inedible mushrooms images:', len(os.listdir(validation_ined_dir)))\n",
        "print('total test edible mushrooms images:', len(os.listdir(test_ed_dir)))\n",
        "print('total test inedible mushrooms images:', len(os.listdir(test_ined_dir)))"
      ],
      "execution_count": null,
      "outputs": [
        {
          "output_type": "stream",
          "name": "stdout",
          "text": [
            "total training edible mushrooms images: 750\n",
            "total training inedible mushrooms images: 1500\n",
            "total validation edible mushrooms images: 400\n",
            "total validation inedible mushrooms images: 800\n",
            "total test edible mushrooms images: 329\n",
            "total test inedible mushrooms images: 405\n"
          ]
        }
      ]
    },
    {
      "cell_type": "markdown",
      "metadata": {
        "id": "cbfJ1Guevbk8"
      },
      "source": [
        "### Data Generation"
      ]
    },
    {
      "cell_type": "code",
      "metadata": {
        "id": "0F-Gtb1qve8x",
        "colab": {
          "base_uri": "https://localhost:8080/"
        },
        "outputId": "2c14c7b9-5943-4a58-aaf8-537c461153a1"
      },
      "source": [
        "from keras.preprocessing.image import ImageDataGenerator\n",
        "\n",
        "train_datagen = ImageDataGenerator(\n",
        "    rescale=1./255,\n",
        "    rotation_range=40,\n",
        "    width_shift_range=0.2,\n",
        "    height_shift_range=0.2,\n",
        "    shear_range=0.2,\n",
        "    zoom_range=0.2,\n",
        "    horizontal_flip=True,\n",
        "    fill_mode='nearest')\n",
        "\n",
        "test_datagen = ImageDataGenerator(rescale=1./255)\n",
        "\n",
        "train_generator = train_datagen.flow_from_directory(\n",
        "    train_dir, \n",
        "    target_size=(150, 150), \n",
        "    batch_size=20, \n",
        "    class_mode='binary')\n",
        "\n",
        "validation_generator = test_datagen.flow_from_directory(\n",
        "    validation_dir,\n",
        "    target_size=(150, 150),\n",
        "    batch_size=20,\n",
        "    class_mode='binary')"
      ],
      "execution_count": null,
      "outputs": [
        {
          "output_type": "stream",
          "name": "stdout",
          "text": [
            "Found 2250 images belonging to 2 classes.\n",
            "Found 1200 images belonging to 2 classes.\n"
          ]
        }
      ]
    },
    {
      "cell_type": "markdown",
      "metadata": {
        "id": "gT-yWrymEK_4"
      },
      "source": [
        "## Complete each time before main model"
      ]
    },
    {
      "cell_type": "markdown",
      "metadata": {
        "id": "vZVwIaorJu8t"
      },
      "source": [
        "**TODO:** Add some more Data Augmentation"
      ]
    },
    {
      "cell_type": "code",
      "metadata": {
        "id": "omORA921ve-8"
      },
      "source": [
        "import os, shutil\n",
        "\n",
        "original_dataset_dir_ed = '/content/drive/MyDrive/Mushrooms Binary Classification (edible & not)/Prepared Data/Edible'\n",
        "original_dataset_dir_ined = '/content/drive/MyDrive/Mushrooms Binary Classification (edible & not)/Prepared Data/Inedible'\n",
        "base_dir = '/content/drive/MyDrive/Mushrooms Binary Classification (edible & not)/Prepared Data'\n",
        "\n",
        "train_dir = os.path.join(base_dir, 'train')\n",
        "validation_dir = os.path.join(base_dir, 'validation')\n",
        "test_dir = os.path.join(base_dir, 'test')\n",
        "\n",
        "train_ed_dir = os.path.join(train_dir, 'edible')\n",
        "train_ined_dir = os.path.join(train_dir, 'inedible')\n",
        "validation_ed_dir = os.path.join(validation_dir, 'edible')\n",
        "validation_ined_dir = os.path.join(validation_dir, 'inedible')\n",
        "test_ed_dir = os.path.join(test_dir, 'edible')\n",
        "test_ined_dir = os.path.join(test_dir, 'inedible')"
      ],
      "execution_count": null,
      "outputs": []
    },
    {
      "cell_type": "code",
      "metadata": {
        "id": "44rWfQtivfBE",
        "colab": {
          "base_uri": "https://localhost:8080/"
        },
        "outputId": "1dc6f1f7-dcf7-4bfb-f900-46481d569001"
      },
      "source": [
        "print('total training edible mushrooms images:', len(os.listdir(train_ed_dir)))\n",
        "print('total training inedible mushrooms images:', len(os.listdir(train_ined_dir)))\n",
        "print('total validation edible mushrooms images:', len(os.listdir(validation_ed_dir)))\n",
        "print('total validation inedible mushrooms images:', len(os.listdir(validation_ined_dir)))\n",
        "print('total test edible mushrooms images:', len(os.listdir(test_ed_dir)))\n",
        "print('total test inedible mushrooms images:', len(os.listdir(test_ined_dir)))"
      ],
      "execution_count": null,
      "outputs": [
        {
          "output_type": "stream",
          "name": "stdout",
          "text": [
            "total training edible mushrooms images: 750\n",
            "total training inedible mushrooms images: 1500\n",
            "total validation edible mushrooms images: 400\n",
            "total validation inedible mushrooms images: 800\n",
            "total test edible mushrooms images: 329\n",
            "total test inedible mushrooms images: 405\n"
          ]
        }
      ]
    },
    {
      "cell_type": "code",
      "metadata": {
        "colab": {
          "base_uri": "https://localhost:8080/"
        },
        "id": "UxBpB6b8JRFW",
        "outputId": "60f67a9d-7d9b-403b-8752-7eaea60a20cd"
      },
      "source": [
        "from keras.preprocessing.image import ImageDataGenerator\n",
        "\n",
        "train_datagen = ImageDataGenerator(\n",
        "    rescale=1./255,\n",
        "    rotation_range=40,\n",
        "    width_shift_range=0.2,\n",
        "    height_shift_range=0.2,\n",
        "    shear_range=0.2,\n",
        "    zoom_range=0.2,\n",
        "    horizontal_flip=True,\n",
        "    fill_mode='nearest')\n",
        "\n",
        "test_datagen = ImageDataGenerator(rescale=1./255)\n",
        "\n",
        "train_generator = train_datagen.flow_from_directory(\n",
        "    train_dir, \n",
        "    target_size=(150, 150), \n",
        "    batch_size=20, \n",
        "    class_mode='binary')\n",
        "\n",
        "validation_generator = test_datagen.flow_from_directory(\n",
        "    validation_dir,\n",
        "    target_size=(150, 150),\n",
        "    batch_size=20,\n",
        "    class_mode='binary')"
      ],
      "execution_count": null,
      "outputs": [
        {
          "output_type": "stream",
          "name": "stdout",
          "text": [
            "Found 2250 images belonging to 2 classes.\n",
            "Found 1200 images belonging to 2 classes.\n"
          ]
        }
      ]
    },
    {
      "cell_type": "markdown",
      "metadata": {
        "id": "u6LuVcc_4IHl"
      },
      "source": [
        "## Main Model"
      ]
    },
    {
      "cell_type": "markdown",
      "metadata": {
        "id": "nKL7cjByIZ84"
      },
      "source": [
        "### Xception | Very first simple model (30 epochs, without callbacks)"
      ]
    },
    {
      "cell_type": "code",
      "metadata": {
        "id": "vBjWggjVTiXa"
      },
      "source": [
        "from keras.applications.xception import Xception"
      ],
      "execution_count": null,
      "outputs": []
    },
    {
      "cell_type": "code",
      "metadata": {
        "id": "90uczQ--owvv",
        "colab": {
          "base_uri": "https://localhost:8080/"
        },
        "outputId": "ecea844e-e78d-4fb8-e4f6-14094c3a233c"
      },
      "source": [
        "conv_base = Xception(weights='imagenet', \n",
        "                     include_top=False, \n",
        "                     input_shape=(150, 150, 3))"
      ],
      "execution_count": null,
      "outputs": [
        {
          "output_type": "stream",
          "name": "stdout",
          "text": [
            "Downloading data from https://storage.googleapis.com/tensorflow/keras-applications/xception/xception_weights_tf_dim_ordering_tf_kernels_notop.h5\n",
            "83689472/83683744 [==============================] - 1s 0us/step\n",
            "83697664/83683744 [==============================] - 1s 0us/step\n"
          ]
        }
      ]
    },
    {
      "cell_type": "code",
      "metadata": {
        "colab": {
          "base_uri": "https://localhost:8080/"
        },
        "id": "_IqfTS1s3R9q",
        "outputId": "7261b844-bc5c-4fd8-940f-d2cb676add0b"
      },
      "source": [
        "conv_base.summary()"
      ],
      "execution_count": null,
      "outputs": [
        {
          "output_type": "stream",
          "name": "stdout",
          "text": [
            "Model: \"xception\"\n",
            "__________________________________________________________________________________________________\n",
            "Layer (type)                    Output Shape         Param #     Connected to                     \n",
            "==================================================================================================\n",
            "input_1 (InputLayer)            [(None, 150, 150, 3) 0                                            \n",
            "__________________________________________________________________________________________________\n",
            "block1_conv1 (Conv2D)           (None, 74, 74, 32)   864         input_1[0][0]                    \n",
            "__________________________________________________________________________________________________\n",
            "block1_conv1_bn (BatchNormaliza (None, 74, 74, 32)   128         block1_conv1[0][0]               \n",
            "__________________________________________________________________________________________________\n",
            "block1_conv1_act (Activation)   (None, 74, 74, 32)   0           block1_conv1_bn[0][0]            \n",
            "__________________________________________________________________________________________________\n",
            "block1_conv2 (Conv2D)           (None, 72, 72, 64)   18432       block1_conv1_act[0][0]           \n",
            "__________________________________________________________________________________________________\n",
            "block1_conv2_bn (BatchNormaliza (None, 72, 72, 64)   256         block1_conv2[0][0]               \n",
            "__________________________________________________________________________________________________\n",
            "block1_conv2_act (Activation)   (None, 72, 72, 64)   0           block1_conv2_bn[0][0]            \n",
            "__________________________________________________________________________________________________\n",
            "block2_sepconv1 (SeparableConv2 (None, 72, 72, 128)  8768        block1_conv2_act[0][0]           \n",
            "__________________________________________________________________________________________________\n",
            "block2_sepconv1_bn (BatchNormal (None, 72, 72, 128)  512         block2_sepconv1[0][0]            \n",
            "__________________________________________________________________________________________________\n",
            "block2_sepconv2_act (Activation (None, 72, 72, 128)  0           block2_sepconv1_bn[0][0]         \n",
            "__________________________________________________________________________________________________\n",
            "block2_sepconv2 (SeparableConv2 (None, 72, 72, 128)  17536       block2_sepconv2_act[0][0]        \n",
            "__________________________________________________________________________________________________\n",
            "block2_sepconv2_bn (BatchNormal (None, 72, 72, 128)  512         block2_sepconv2[0][0]            \n",
            "__________________________________________________________________________________________________\n",
            "conv2d (Conv2D)                 (None, 36, 36, 128)  8192        block1_conv2_act[0][0]           \n",
            "__________________________________________________________________________________________________\n",
            "block2_pool (MaxPooling2D)      (None, 36, 36, 128)  0           block2_sepconv2_bn[0][0]         \n",
            "__________________________________________________________________________________________________\n",
            "batch_normalization (BatchNorma (None, 36, 36, 128)  512         conv2d[0][0]                     \n",
            "__________________________________________________________________________________________________\n",
            "add (Add)                       (None, 36, 36, 128)  0           block2_pool[0][0]                \n",
            "                                                                 batch_normalization[0][0]        \n",
            "__________________________________________________________________________________________________\n",
            "block3_sepconv1_act (Activation (None, 36, 36, 128)  0           add[0][0]                        \n",
            "__________________________________________________________________________________________________\n",
            "block3_sepconv1 (SeparableConv2 (None, 36, 36, 256)  33920       block3_sepconv1_act[0][0]        \n",
            "__________________________________________________________________________________________________\n",
            "block3_sepconv1_bn (BatchNormal (None, 36, 36, 256)  1024        block3_sepconv1[0][0]            \n",
            "__________________________________________________________________________________________________\n",
            "block3_sepconv2_act (Activation (None, 36, 36, 256)  0           block3_sepconv1_bn[0][0]         \n",
            "__________________________________________________________________________________________________\n",
            "block3_sepconv2 (SeparableConv2 (None, 36, 36, 256)  67840       block3_sepconv2_act[0][0]        \n",
            "__________________________________________________________________________________________________\n",
            "block3_sepconv2_bn (BatchNormal (None, 36, 36, 256)  1024        block3_sepconv2[0][0]            \n",
            "__________________________________________________________________________________________________\n",
            "conv2d_1 (Conv2D)               (None, 18, 18, 256)  32768       add[0][0]                        \n",
            "__________________________________________________________________________________________________\n",
            "block3_pool (MaxPooling2D)      (None, 18, 18, 256)  0           block3_sepconv2_bn[0][0]         \n",
            "__________________________________________________________________________________________________\n",
            "batch_normalization_1 (BatchNor (None, 18, 18, 256)  1024        conv2d_1[0][0]                   \n",
            "__________________________________________________________________________________________________\n",
            "add_1 (Add)                     (None, 18, 18, 256)  0           block3_pool[0][0]                \n",
            "                                                                 batch_normalization_1[0][0]      \n",
            "__________________________________________________________________________________________________\n",
            "block4_sepconv1_act (Activation (None, 18, 18, 256)  0           add_1[0][0]                      \n",
            "__________________________________________________________________________________________________\n",
            "block4_sepconv1 (SeparableConv2 (None, 18, 18, 728)  188672      block4_sepconv1_act[0][0]        \n",
            "__________________________________________________________________________________________________\n",
            "block4_sepconv1_bn (BatchNormal (None, 18, 18, 728)  2912        block4_sepconv1[0][0]            \n",
            "__________________________________________________________________________________________________\n",
            "block4_sepconv2_act (Activation (None, 18, 18, 728)  0           block4_sepconv1_bn[0][0]         \n",
            "__________________________________________________________________________________________________\n",
            "block4_sepconv2 (SeparableConv2 (None, 18, 18, 728)  536536      block4_sepconv2_act[0][0]        \n",
            "__________________________________________________________________________________________________\n",
            "block4_sepconv2_bn (BatchNormal (None, 18, 18, 728)  2912        block4_sepconv2[0][0]            \n",
            "__________________________________________________________________________________________________\n",
            "conv2d_2 (Conv2D)               (None, 9, 9, 728)    186368      add_1[0][0]                      \n",
            "__________________________________________________________________________________________________\n",
            "block4_pool (MaxPooling2D)      (None, 9, 9, 728)    0           block4_sepconv2_bn[0][0]         \n",
            "__________________________________________________________________________________________________\n",
            "batch_normalization_2 (BatchNor (None, 9, 9, 728)    2912        conv2d_2[0][0]                   \n",
            "__________________________________________________________________________________________________\n",
            "add_2 (Add)                     (None, 9, 9, 728)    0           block4_pool[0][0]                \n",
            "                                                                 batch_normalization_2[0][0]      \n",
            "__________________________________________________________________________________________________\n",
            "block5_sepconv1_act (Activation (None, 9, 9, 728)    0           add_2[0][0]                      \n",
            "__________________________________________________________________________________________________\n",
            "block5_sepconv1 (SeparableConv2 (None, 9, 9, 728)    536536      block5_sepconv1_act[0][0]        \n",
            "__________________________________________________________________________________________________\n",
            "block5_sepconv1_bn (BatchNormal (None, 9, 9, 728)    2912        block5_sepconv1[0][0]            \n",
            "__________________________________________________________________________________________________\n",
            "block5_sepconv2_act (Activation (None, 9, 9, 728)    0           block5_sepconv1_bn[0][0]         \n",
            "__________________________________________________________________________________________________\n",
            "block5_sepconv2 (SeparableConv2 (None, 9, 9, 728)    536536      block5_sepconv2_act[0][0]        \n",
            "__________________________________________________________________________________________________\n",
            "block5_sepconv2_bn (BatchNormal (None, 9, 9, 728)    2912        block5_sepconv2[0][0]            \n",
            "__________________________________________________________________________________________________\n",
            "block5_sepconv3_act (Activation (None, 9, 9, 728)    0           block5_sepconv2_bn[0][0]         \n",
            "__________________________________________________________________________________________________\n",
            "block5_sepconv3 (SeparableConv2 (None, 9, 9, 728)    536536      block5_sepconv3_act[0][0]        \n",
            "__________________________________________________________________________________________________\n",
            "block5_sepconv3_bn (BatchNormal (None, 9, 9, 728)    2912        block5_sepconv3[0][0]            \n",
            "__________________________________________________________________________________________________\n",
            "add_3 (Add)                     (None, 9, 9, 728)    0           block5_sepconv3_bn[0][0]         \n",
            "                                                                 add_2[0][0]                      \n",
            "__________________________________________________________________________________________________\n",
            "block6_sepconv1_act (Activation (None, 9, 9, 728)    0           add_3[0][0]                      \n",
            "__________________________________________________________________________________________________\n",
            "block6_sepconv1 (SeparableConv2 (None, 9, 9, 728)    536536      block6_sepconv1_act[0][0]        \n",
            "__________________________________________________________________________________________________\n",
            "block6_sepconv1_bn (BatchNormal (None, 9, 9, 728)    2912        block6_sepconv1[0][0]            \n",
            "__________________________________________________________________________________________________\n",
            "block6_sepconv2_act (Activation (None, 9, 9, 728)    0           block6_sepconv1_bn[0][0]         \n",
            "__________________________________________________________________________________________________\n",
            "block6_sepconv2 (SeparableConv2 (None, 9, 9, 728)    536536      block6_sepconv2_act[0][0]        \n",
            "__________________________________________________________________________________________________\n",
            "block6_sepconv2_bn (BatchNormal (None, 9, 9, 728)    2912        block6_sepconv2[0][0]            \n",
            "__________________________________________________________________________________________________\n",
            "block6_sepconv3_act (Activation (None, 9, 9, 728)    0           block6_sepconv2_bn[0][0]         \n",
            "__________________________________________________________________________________________________\n",
            "block6_sepconv3 (SeparableConv2 (None, 9, 9, 728)    536536      block6_sepconv3_act[0][0]        \n",
            "__________________________________________________________________________________________________\n",
            "block6_sepconv3_bn (BatchNormal (None, 9, 9, 728)    2912        block6_sepconv3[0][0]            \n",
            "__________________________________________________________________________________________________\n",
            "add_4 (Add)                     (None, 9, 9, 728)    0           block6_sepconv3_bn[0][0]         \n",
            "                                                                 add_3[0][0]                      \n",
            "__________________________________________________________________________________________________\n",
            "block7_sepconv1_act (Activation (None, 9, 9, 728)    0           add_4[0][0]                      \n",
            "__________________________________________________________________________________________________\n",
            "block7_sepconv1 (SeparableConv2 (None, 9, 9, 728)    536536      block7_sepconv1_act[0][0]        \n",
            "__________________________________________________________________________________________________\n",
            "block7_sepconv1_bn (BatchNormal (None, 9, 9, 728)    2912        block7_sepconv1[0][0]            \n",
            "__________________________________________________________________________________________________\n",
            "block7_sepconv2_act (Activation (None, 9, 9, 728)    0           block7_sepconv1_bn[0][0]         \n",
            "__________________________________________________________________________________________________\n",
            "block7_sepconv2 (SeparableConv2 (None, 9, 9, 728)    536536      block7_sepconv2_act[0][0]        \n",
            "__________________________________________________________________________________________________\n",
            "block7_sepconv2_bn (BatchNormal (None, 9, 9, 728)    2912        block7_sepconv2[0][0]            \n",
            "__________________________________________________________________________________________________\n",
            "block7_sepconv3_act (Activation (None, 9, 9, 728)    0           block7_sepconv2_bn[0][0]         \n",
            "__________________________________________________________________________________________________\n",
            "block7_sepconv3 (SeparableConv2 (None, 9, 9, 728)    536536      block7_sepconv3_act[0][0]        \n",
            "__________________________________________________________________________________________________\n",
            "block7_sepconv3_bn (BatchNormal (None, 9, 9, 728)    2912        block7_sepconv3[0][0]            \n",
            "__________________________________________________________________________________________________\n",
            "add_5 (Add)                     (None, 9, 9, 728)    0           block7_sepconv3_bn[0][0]         \n",
            "                                                                 add_4[0][0]                      \n",
            "__________________________________________________________________________________________________\n",
            "block8_sepconv1_act (Activation (None, 9, 9, 728)    0           add_5[0][0]                      \n",
            "__________________________________________________________________________________________________\n",
            "block8_sepconv1 (SeparableConv2 (None, 9, 9, 728)    536536      block8_sepconv1_act[0][0]        \n",
            "__________________________________________________________________________________________________\n",
            "block8_sepconv1_bn (BatchNormal (None, 9, 9, 728)    2912        block8_sepconv1[0][0]            \n",
            "__________________________________________________________________________________________________\n",
            "block8_sepconv2_act (Activation (None, 9, 9, 728)    0           block8_sepconv1_bn[0][0]         \n",
            "__________________________________________________________________________________________________\n",
            "block8_sepconv2 (SeparableConv2 (None, 9, 9, 728)    536536      block8_sepconv2_act[0][0]        \n",
            "__________________________________________________________________________________________________\n",
            "block8_sepconv2_bn (BatchNormal (None, 9, 9, 728)    2912        block8_sepconv2[0][0]            \n",
            "__________________________________________________________________________________________________\n",
            "block8_sepconv3_act (Activation (None, 9, 9, 728)    0           block8_sepconv2_bn[0][0]         \n",
            "__________________________________________________________________________________________________\n",
            "block8_sepconv3 (SeparableConv2 (None, 9, 9, 728)    536536      block8_sepconv3_act[0][0]        \n",
            "__________________________________________________________________________________________________\n",
            "block8_sepconv3_bn (BatchNormal (None, 9, 9, 728)    2912        block8_sepconv3[0][0]            \n",
            "__________________________________________________________________________________________________\n",
            "add_6 (Add)                     (None, 9, 9, 728)    0           block8_sepconv3_bn[0][0]         \n",
            "                                                                 add_5[0][0]                      \n",
            "__________________________________________________________________________________________________\n",
            "block9_sepconv1_act (Activation (None, 9, 9, 728)    0           add_6[0][0]                      \n",
            "__________________________________________________________________________________________________\n",
            "block9_sepconv1 (SeparableConv2 (None, 9, 9, 728)    536536      block9_sepconv1_act[0][0]        \n",
            "__________________________________________________________________________________________________\n",
            "block9_sepconv1_bn (BatchNormal (None, 9, 9, 728)    2912        block9_sepconv1[0][0]            \n",
            "__________________________________________________________________________________________________\n",
            "block9_sepconv2_act (Activation (None, 9, 9, 728)    0           block9_sepconv1_bn[0][0]         \n",
            "__________________________________________________________________________________________________\n",
            "block9_sepconv2 (SeparableConv2 (None, 9, 9, 728)    536536      block9_sepconv2_act[0][0]        \n",
            "__________________________________________________________________________________________________\n",
            "block9_sepconv2_bn (BatchNormal (None, 9, 9, 728)    2912        block9_sepconv2[0][0]            \n",
            "__________________________________________________________________________________________________\n",
            "block9_sepconv3_act (Activation (None, 9, 9, 728)    0           block9_sepconv2_bn[0][0]         \n",
            "__________________________________________________________________________________________________\n",
            "block9_sepconv3 (SeparableConv2 (None, 9, 9, 728)    536536      block9_sepconv3_act[0][0]        \n",
            "__________________________________________________________________________________________________\n",
            "block9_sepconv3_bn (BatchNormal (None, 9, 9, 728)    2912        block9_sepconv3[0][0]            \n",
            "__________________________________________________________________________________________________\n",
            "add_7 (Add)                     (None, 9, 9, 728)    0           block9_sepconv3_bn[0][0]         \n",
            "                                                                 add_6[0][0]                      \n",
            "__________________________________________________________________________________________________\n",
            "block10_sepconv1_act (Activatio (None, 9, 9, 728)    0           add_7[0][0]                      \n",
            "__________________________________________________________________________________________________\n",
            "block10_sepconv1 (SeparableConv (None, 9, 9, 728)    536536      block10_sepconv1_act[0][0]       \n",
            "__________________________________________________________________________________________________\n",
            "block10_sepconv1_bn (BatchNorma (None, 9, 9, 728)    2912        block10_sepconv1[0][0]           \n",
            "__________________________________________________________________________________________________\n",
            "block10_sepconv2_act (Activatio (None, 9, 9, 728)    0           block10_sepconv1_bn[0][0]        \n",
            "__________________________________________________________________________________________________\n",
            "block10_sepconv2 (SeparableConv (None, 9, 9, 728)    536536      block10_sepconv2_act[0][0]       \n",
            "__________________________________________________________________________________________________\n",
            "block10_sepconv2_bn (BatchNorma (None, 9, 9, 728)    2912        block10_sepconv2[0][0]           \n",
            "__________________________________________________________________________________________________\n",
            "block10_sepconv3_act (Activatio (None, 9, 9, 728)    0           block10_sepconv2_bn[0][0]        \n",
            "__________________________________________________________________________________________________\n",
            "block10_sepconv3 (SeparableConv (None, 9, 9, 728)    536536      block10_sepconv3_act[0][0]       \n",
            "__________________________________________________________________________________________________\n",
            "block10_sepconv3_bn (BatchNorma (None, 9, 9, 728)    2912        block10_sepconv3[0][0]           \n",
            "__________________________________________________________________________________________________\n",
            "add_8 (Add)                     (None, 9, 9, 728)    0           block10_sepconv3_bn[0][0]        \n",
            "                                                                 add_7[0][0]                      \n",
            "__________________________________________________________________________________________________\n",
            "block11_sepconv1_act (Activatio (None, 9, 9, 728)    0           add_8[0][0]                      \n",
            "__________________________________________________________________________________________________\n",
            "block11_sepconv1 (SeparableConv (None, 9, 9, 728)    536536      block11_sepconv1_act[0][0]       \n",
            "__________________________________________________________________________________________________\n",
            "block11_sepconv1_bn (BatchNorma (None, 9, 9, 728)    2912        block11_sepconv1[0][0]           \n",
            "__________________________________________________________________________________________________\n",
            "block11_sepconv2_act (Activatio (None, 9, 9, 728)    0           block11_sepconv1_bn[0][0]        \n",
            "__________________________________________________________________________________________________\n",
            "block11_sepconv2 (SeparableConv (None, 9, 9, 728)    536536      block11_sepconv2_act[0][0]       \n",
            "__________________________________________________________________________________________________\n",
            "block11_sepconv2_bn (BatchNorma (None, 9, 9, 728)    2912        block11_sepconv2[0][0]           \n",
            "__________________________________________________________________________________________________\n",
            "block11_sepconv3_act (Activatio (None, 9, 9, 728)    0           block11_sepconv2_bn[0][0]        \n",
            "__________________________________________________________________________________________________\n",
            "block11_sepconv3 (SeparableConv (None, 9, 9, 728)    536536      block11_sepconv3_act[0][0]       \n",
            "__________________________________________________________________________________________________\n",
            "block11_sepconv3_bn (BatchNorma (None, 9, 9, 728)    2912        block11_sepconv3[0][0]           \n",
            "__________________________________________________________________________________________________\n",
            "add_9 (Add)                     (None, 9, 9, 728)    0           block11_sepconv3_bn[0][0]        \n",
            "                                                                 add_8[0][0]                      \n",
            "__________________________________________________________________________________________________\n",
            "block12_sepconv1_act (Activatio (None, 9, 9, 728)    0           add_9[0][0]                      \n",
            "__________________________________________________________________________________________________\n",
            "block12_sepconv1 (SeparableConv (None, 9, 9, 728)    536536      block12_sepconv1_act[0][0]       \n",
            "__________________________________________________________________________________________________\n",
            "block12_sepconv1_bn (BatchNorma (None, 9, 9, 728)    2912        block12_sepconv1[0][0]           \n",
            "__________________________________________________________________________________________________\n",
            "block12_sepconv2_act (Activatio (None, 9, 9, 728)    0           block12_sepconv1_bn[0][0]        \n",
            "__________________________________________________________________________________________________\n",
            "block12_sepconv2 (SeparableConv (None, 9, 9, 728)    536536      block12_sepconv2_act[0][0]       \n",
            "__________________________________________________________________________________________________\n",
            "block12_sepconv2_bn (BatchNorma (None, 9, 9, 728)    2912        block12_sepconv2[0][0]           \n",
            "__________________________________________________________________________________________________\n",
            "block12_sepconv3_act (Activatio (None, 9, 9, 728)    0           block12_sepconv2_bn[0][0]        \n",
            "__________________________________________________________________________________________________\n",
            "block12_sepconv3 (SeparableConv (None, 9, 9, 728)    536536      block12_sepconv3_act[0][0]       \n",
            "__________________________________________________________________________________________________\n",
            "block12_sepconv3_bn (BatchNorma (None, 9, 9, 728)    2912        block12_sepconv3[0][0]           \n",
            "__________________________________________________________________________________________________\n",
            "add_10 (Add)                    (None, 9, 9, 728)    0           block12_sepconv3_bn[0][0]        \n",
            "                                                                 add_9[0][0]                      \n",
            "__________________________________________________________________________________________________\n",
            "block13_sepconv1_act (Activatio (None, 9, 9, 728)    0           add_10[0][0]                     \n",
            "__________________________________________________________________________________________________\n",
            "block13_sepconv1 (SeparableConv (None, 9, 9, 728)    536536      block13_sepconv1_act[0][0]       \n",
            "__________________________________________________________________________________________________\n",
            "block13_sepconv1_bn (BatchNorma (None, 9, 9, 728)    2912        block13_sepconv1[0][0]           \n",
            "__________________________________________________________________________________________________\n",
            "block13_sepconv2_act (Activatio (None, 9, 9, 728)    0           block13_sepconv1_bn[0][0]        \n",
            "__________________________________________________________________________________________________\n",
            "block13_sepconv2 (SeparableConv (None, 9, 9, 1024)   752024      block13_sepconv2_act[0][0]       \n",
            "__________________________________________________________________________________________________\n",
            "block13_sepconv2_bn (BatchNorma (None, 9, 9, 1024)   4096        block13_sepconv2[0][0]           \n",
            "__________________________________________________________________________________________________\n",
            "conv2d_3 (Conv2D)               (None, 5, 5, 1024)   745472      add_10[0][0]                     \n",
            "__________________________________________________________________________________________________\n",
            "block13_pool (MaxPooling2D)     (None, 5, 5, 1024)   0           block13_sepconv2_bn[0][0]        \n",
            "__________________________________________________________________________________________________\n",
            "batch_normalization_3 (BatchNor (None, 5, 5, 1024)   4096        conv2d_3[0][0]                   \n",
            "__________________________________________________________________________________________________\n",
            "add_11 (Add)                    (None, 5, 5, 1024)   0           block13_pool[0][0]               \n",
            "                                                                 batch_normalization_3[0][0]      \n",
            "__________________________________________________________________________________________________\n",
            "block14_sepconv1 (SeparableConv (None, 5, 5, 1536)   1582080     add_11[0][0]                     \n",
            "__________________________________________________________________________________________________\n",
            "block14_sepconv1_bn (BatchNorma (None, 5, 5, 1536)   6144        block14_sepconv1[0][0]           \n",
            "__________________________________________________________________________________________________\n",
            "block14_sepconv1_act (Activatio (None, 5, 5, 1536)   0           block14_sepconv1_bn[0][0]        \n",
            "__________________________________________________________________________________________________\n",
            "block14_sepconv2 (SeparableConv (None, 5, 5, 2048)   3159552     block14_sepconv1_act[0][0]       \n",
            "__________________________________________________________________________________________________\n",
            "block14_sepconv2_bn (BatchNorma (None, 5, 5, 2048)   8192        block14_sepconv2[0][0]           \n",
            "__________________________________________________________________________________________________\n",
            "block14_sepconv2_act (Activatio (None, 5, 5, 2048)   0           block14_sepconv2_bn[0][0]        \n",
            "==================================================================================================\n",
            "Total params: 20,861,480\n",
            "Trainable params: 20,806,952\n",
            "Non-trainable params: 54,528\n",
            "__________________________________________________________________________________________________\n"
          ]
        }
      ]
    },
    {
      "cell_type": "code",
      "metadata": {
        "colab": {
          "base_uri": "https://localhost:8080/"
        },
        "id": "wBfkYpO03SGi",
        "outputId": "d4ef1ea8-5af5-4d28-81ee-4572bb8e6450"
      },
      "source": [
        "from keras.layers import Flatten, Dense\n",
        "from keras.models import Sequential\n",
        "\n",
        "model = Sequential()\n",
        "model.add(conv_base)\n",
        "model.add(Flatten())\n",
        "model.add(Dense(128, activation='relu'))\n",
        "model.add(Dense(1, activation='sigmoid'))\n",
        "\n",
        "model.summary()"
      ],
      "execution_count": null,
      "outputs": [
        {
          "output_type": "stream",
          "name": "stdout",
          "text": [
            "Model: \"sequential_2\"\n",
            "_________________________________________________________________\n",
            "Layer (type)                 Output Shape              Param #   \n",
            "=================================================================\n",
            "xception (Functional)        (None, 5, 5, 2048)        20861480  \n",
            "_________________________________________________________________\n",
            "flatten_2 (Flatten)          (None, 51200)             0         \n",
            "_________________________________________________________________\n",
            "dense_4 (Dense)              (None, 128)               6553728   \n",
            "_________________________________________________________________\n",
            "dense_5 (Dense)              (None, 1)                 129       \n",
            "=================================================================\n",
            "Total params: 27,415,337\n",
            "Trainable params: 6,553,857\n",
            "Non-trainable params: 20,861,480\n",
            "_________________________________________________________________\n"
          ]
        }
      ]
    },
    {
      "cell_type": "code",
      "metadata": {
        "colab": {
          "base_uri": "https://localhost:8080/"
        },
        "id": "5eOyEPe73SIz",
        "outputId": "e9fdb68c-4b1e-48e5-8cc5-c7fd9a47f238"
      },
      "source": [
        "print('This is the number of trainable weights', \n",
        "      'before freezing the conv base',\n",
        "      len(model.trainable_weights))\n",
        "\n",
        "conv_base.trainable = False\n",
        "\n",
        "print('This is the number of trainable weights', \n",
        "      'after freezing the conv base',\n",
        "      len(model.trainable_weights))"
      ],
      "execution_count": null,
      "outputs": [
        {
          "output_type": "stream",
          "name": "stdout",
          "text": [
            "This is the number of trainable weights before freezing the conv base 158\n",
            "This is the number of trainable weights after freezing the conv base 4\n"
          ]
        }
      ]
    },
    {
      "cell_type": "code",
      "metadata": {
        "id": "BDhMG5Tq3SK9",
        "colab": {
          "base_uri": "https://localhost:8080/"
        },
        "outputId": "e67fc44f-7987-47fe-87f9-fc7bd57f64ca"
      },
      "source": [
        "model.compile(optimizer='rmsprop', \n",
        "              loss='binary_crossentropy', \n",
        "              metrics=['acc'])\n",
        "\n",
        "history = model.fit(train_generator,\n",
        "                    steps_per_epoch=100,\n",
        "                    epochs=30,\n",
        "                    validation_data=validation_generator,\n",
        "                    validation_steps=50)"
      ],
      "execution_count": null,
      "outputs": [
        {
          "output_type": "stream",
          "name": "stdout",
          "text": [
            "Epoch 1/30\n",
            "100/100 [==============================] - 37s 340ms/step - loss: 3.8104 - acc: 0.5970 - val_loss: 2.5040 - val_acc: 0.6660\n",
            "Epoch 2/30\n",
            "100/100 [==============================] - 33s 334ms/step - loss: 1.4399 - acc: 0.6525 - val_loss: 1.0398 - val_acc: 0.5960\n",
            "Epoch 3/30\n",
            "100/100 [==============================] - 34s 337ms/step - loss: 0.9731 - acc: 0.6804 - val_loss: 0.7895 - val_acc: 0.7190\n",
            "Epoch 4/30\n",
            "100/100 [==============================] - 33s 326ms/step - loss: 0.8887 - acc: 0.6739 - val_loss: 0.5259 - val_acc: 0.7310\n",
            "Epoch 5/30\n",
            "100/100 [==============================] - 33s 326ms/step - loss: 0.6395 - acc: 0.6774 - val_loss: 0.5198 - val_acc: 0.7090\n",
            "Epoch 6/30\n",
            "100/100 [==============================] - 33s 332ms/step - loss: 0.6111 - acc: 0.7040 - val_loss: 0.5081 - val_acc: 0.7150\n",
            "Epoch 7/30\n",
            "100/100 [==============================] - 32s 324ms/step - loss: 0.6296 - acc: 0.7186 - val_loss: 0.5166 - val_acc: 0.7370\n",
            "Epoch 8/30\n",
            "100/100 [==============================] - 33s 333ms/step - loss: 0.5727 - acc: 0.7176 - val_loss: 0.4928 - val_acc: 0.7690\n",
            "Epoch 9/30\n",
            "100/100 [==============================] - 32s 325ms/step - loss: 0.5477 - acc: 0.7377 - val_loss: 0.5148 - val_acc: 0.7550\n",
            "Epoch 10/30\n",
            "100/100 [==============================] - 34s 339ms/step - loss: 0.5418 - acc: 0.7327 - val_loss: 0.7459 - val_acc: 0.7370\n",
            "Epoch 11/30\n",
            "100/100 [==============================] - 34s 337ms/step - loss: 0.5208 - acc: 0.7513 - val_loss: 0.4467 - val_acc: 0.7910\n",
            "Epoch 12/30\n",
            "100/100 [==============================] - 33s 329ms/step - loss: 0.5335 - acc: 0.7518 - val_loss: 0.4666 - val_acc: 0.7850\n",
            "Epoch 13/30\n",
            "100/100 [==============================] - 33s 326ms/step - loss: 0.5092 - acc: 0.7553 - val_loss: 0.4473 - val_acc: 0.7790\n",
            "Epoch 14/30\n",
            "100/100 [==============================] - 33s 329ms/step - loss: 0.4866 - acc: 0.7834 - val_loss: 0.4482 - val_acc: 0.7980\n",
            "Epoch 15/30\n",
            "100/100 [==============================] - 33s 331ms/step - loss: 0.4973 - acc: 0.7568 - val_loss: 0.4584 - val_acc: 0.7780\n",
            "Epoch 16/30\n",
            "100/100 [==============================] - 34s 338ms/step - loss: 0.4737 - acc: 0.7869 - val_loss: 0.4353 - val_acc: 0.7920\n",
            "Epoch 17/30\n",
            "100/100 [==============================] - 33s 329ms/step - loss: 0.4654 - acc: 0.7824 - val_loss: 0.4311 - val_acc: 0.8130\n",
            "Epoch 18/30\n",
            "100/100 [==============================] - 32s 322ms/step - loss: 0.4674 - acc: 0.7809 - val_loss: 0.4456 - val_acc: 0.8240\n",
            "Epoch 19/30\n",
            "100/100 [==============================] - 32s 324ms/step - loss: 0.4711 - acc: 0.7884 - val_loss: 0.5280 - val_acc: 0.7980\n",
            "Epoch 20/30\n",
            "100/100 [==============================] - 33s 328ms/step - loss: 0.4501 - acc: 0.7980 - val_loss: 0.4122 - val_acc: 0.8050\n",
            "Epoch 21/30\n",
            "100/100 [==============================] - 35s 350ms/step - loss: 0.4371 - acc: 0.7960 - val_loss: 0.4291 - val_acc: 0.7990\n",
            "Epoch 22/30\n",
            "100/100 [==============================] - 33s 333ms/step - loss: 0.4520 - acc: 0.7960 - val_loss: 0.3841 - val_acc: 0.8200\n",
            "Epoch 23/30\n",
            "100/100 [==============================] - 33s 329ms/step - loss: 0.4305 - acc: 0.8060 - val_loss: 0.3986 - val_acc: 0.8250\n",
            "Epoch 24/30\n",
            "100/100 [==============================] - 33s 330ms/step - loss: 0.4129 - acc: 0.8090 - val_loss: 0.4288 - val_acc: 0.8210\n",
            "Epoch 25/30\n",
            "100/100 [==============================] - 33s 333ms/step - loss: 0.4064 - acc: 0.8240 - val_loss: 0.3764 - val_acc: 0.8270\n",
            "Epoch 26/30\n",
            "100/100 [==============================] - 33s 328ms/step - loss: 0.4175 - acc: 0.8226 - val_loss: 0.3899 - val_acc: 0.8250\n",
            "Epoch 27/30\n",
            "100/100 [==============================] - 32s 320ms/step - loss: 0.4083 - acc: 0.8136 - val_loss: 0.4128 - val_acc: 0.8270\n",
            "Epoch 28/30\n",
            "100/100 [==============================] - 32s 324ms/step - loss: 0.4427 - acc: 0.8131 - val_loss: 0.4149 - val_acc: 0.8340\n",
            "Epoch 29/30\n",
            "100/100 [==============================] - 32s 321ms/step - loss: 0.4167 - acc: 0.8176 - val_loss: 0.4530 - val_acc: 0.8150\n",
            "Epoch 30/30\n",
            "100/100 [==============================] - 33s 327ms/step - loss: 0.4350 - acc: 0.8146 - val_loss: 0.3866 - val_acc: 0.8440\n"
          ]
        }
      ]
    },
    {
      "cell_type": "code",
      "metadata": {
        "id": "Weo36URz3SND",
        "colab": {
          "base_uri": "https://localhost:8080/",
          "height": 545
        },
        "outputId": "b32c26e6-f9c6-4c8b-e6ff-a3de3b84d625"
      },
      "source": [
        "import matplotlib.pyplot as plt\n",
        "\n",
        "acc = history.history['acc']\n",
        "val_acc = history.history['val_acc']\n",
        "loss = history.history['loss']\n",
        "val_loss = history.history['val_loss']\n",
        "\n",
        "epochs = range(1, len(acc) + 1)\n",
        "plt.plot(epochs, acc, 'bo', label='Training accuracy')\n",
        "plt.plot(epochs, val_acc, 'b', label='Validation accuracy')\n",
        "plt.title('Training and Validation accuracy')\n",
        "plt.legend()\n",
        "\n",
        "plt.figure()\n",
        "\n",
        "plt.plot(epochs, loss, 'bo', label='Training loss')\n",
        "plt.plot(epochs, val_loss, 'b', label='Validation loss')\n",
        "plt.title('Training and Validation loss')\n",
        "plt.legend()\n",
        "\n",
        "plt.show()"
      ],
      "execution_count": null,
      "outputs": [
        {
          "output_type": "display_data",
          "data": {
            "image/png": "[encoded data removed]",
            "text/plain": [
              "<Figure size 432x288 with 1 Axes>"
            ]
          },
          "metadata": {
            "needs_background": "light"
          }
        },
        {
          "output_type": "display_data",
          "data": {
            "image/png": "[encoded data removed]",
            "text/plain": [
              "<Figure size 432x288 with 1 Axes>"
            ]
          },
          "metadata": {
            "needs_background": "light"
          }
        }
      ]
    },
    {
      "cell_type": "markdown",
      "metadata": {
        "id": "C7o_2EmVIwA9"
      },
      "source": [
        "### Xception | Second model with callbacks"
      ]
    },
    {
      "cell_type": "code",
      "metadata": {
        "colab": {
          "base_uri": "https://localhost:8080/"
        },
        "id": "FfU0dNlgIhrG",
        "outputId": "29a75411-f3d7-4d9d-9ece-1cca2fe58def"
      },
      "source": [
        "from keras.applications.xception import Xception\n",
        "conv_base = Xception(weights='imagenet', \n",
        "                     include_top=False, \n",
        "                     input_shape=(150, 150, 3))"
      ],
      "execution_count": null,
      "outputs": [
        {
          "output_type": "stream",
          "name": "stdout",
          "text": [
            "Downloading data from https://storage.googleapis.com/tensorflow/keras-applications/xception/xception_weights_tf_dim_ordering_tf_kernels_notop.h5\n",
            "83689472/83683744 [==============================] - 2s 0us/step\n",
            "83697664/83683744 [==============================] - 2s 0us/step\n"
          ]
        }
      ]
    },
    {
      "cell_type": "code",
      "metadata": {
        "colab": {
          "base_uri": "https://localhost:8080/"
        },
        "id": "oB37nvAOIhtb",
        "outputId": "c2eb48d1-79b9-4f33-ac1c-d372562e3dce"
      },
      "source": [
        "from keras.layers import Flatten, Dense\n",
        "from keras.models import Sequential\n",
        "\n",
        "model = Sequential()\n",
        "model.add(conv_base)\n",
        "model.add(Flatten())\n",
        "model.add(Dense(128, activation='relu'))\n",
        "model.add(Dense(1, activation='sigmoid'))\n",
        "\n",
        "model.summary()"
      ],
      "execution_count": null,
      "outputs": [
        {
          "output_type": "stream",
          "name": "stdout",
          "text": [
            "Model: \"sequential\"\n",
            "_________________________________________________________________\n",
            "Layer (type)                 Output Shape              Param #   \n",
            "=================================================================\n",
            "xception (Functional)        (None, 5, 5, 2048)        20861480  \n",
            "_________________________________________________________________\n",
            "flatten (Flatten)            (None, 51200)             0         \n",
            "_________________________________________________________________\n",
            "dense (Dense)                (None, 128)               6553728   \n",
            "_________________________________________________________________\n",
            "dense_1 (Dense)              (None, 1)                 129       \n",
            "=================================================================\n",
            "Total params: 27,415,337\n",
            "Trainable params: 27,360,809\n",
            "Non-trainable params: 54,528\n",
            "_________________________________________________________________\n"
          ]
        }
      ]
    },
    {
      "cell_type": "code",
      "metadata": {
        "colab": {
          "base_uri": "https://localhost:8080/"
        },
        "id": "h16uSOwiIhv4",
        "outputId": "3eacb6d8-5ffb-4bd3-e350-6f3a47b7eda7"
      },
      "source": [
        "print('This is the number of trainable weights', \n",
        "      'before freezing the conv base',\n",
        "      len(model.trainable_weights))\n",
        "\n",
        "conv_base.trainable = False\n",
        "\n",
        "print('This is the number of trainable weights', \n",
        "      'after freezing the conv base',\n",
        "      len(model.trainable_weights))"
      ],
      "execution_count": null,
      "outputs": [
        {
          "output_type": "stream",
          "name": "stdout",
          "text": [
            "This is the number of trainable weights before freezing the conv base 158\n",
            "This is the number of trainable weights after freezing the conv base 4\n"
          ]
        }
      ]
    },
    {
      "cell_type": "code",
      "metadata": {
        "id": "N__vR4SCJF0G"
      },
      "source": [
        "!mkdir '/content/drive/MyDrive/Mushrooms Binary Classification (edible & not)/model weights/'"
      ],
      "execution_count": null,
      "outputs": []
    },
    {
      "cell_type": "code",
      "metadata": {
        "id": "QYyYaU7lJQxa"
      },
      "source": [
        "path = '/content/drive/MyDrive/Mushrooms Binary Classification (edible & not)/model weights/first_weights.hdf5'"
      ],
      "execution_count": null,
      "outputs": []
    },
    {
      "cell_type": "code",
      "metadata": {
        "id": "RWsKBUx7Isdd"
      },
      "source": [
        "from keras.callbacks import EarlyStopping, ModelCheckpoint\n",
        "\n",
        "model_checkpoint_callback = ModelCheckpoint(filepath=path,\n",
        "                                            save_weights_only=True,\n",
        "                                            monitor='val_accuracy',\n",
        "                                            mode='max',\n",
        "                                            save_best_only=True)\n",
        "\n",
        "model_early_stop_callback = EarlyStopping(monitor=\"val_loss\",\n",
        "                                          patience=20,\n",
        "                                          verbose=1,\n",
        "                                          mode=\"min\")"
      ],
      "execution_count": null,
      "outputs": []
    },
    {
      "cell_type": "code",
      "metadata": {
        "id": "SFXUU2CuKi-Y"
      },
      "source": [
        "EPOCHS = 100\n",
        "STEPS_TRAIN = 100\n",
        "STEPS_VAL = 50"
      ],
      "execution_count": null,
      "outputs": []
    },
    {
      "cell_type": "code",
      "metadata": {
        "colab": {
          "base_uri": "https://localhost:8080/"
        },
        "id": "8fc2cyj_Isfv",
        "outputId": "e8366272-a169-4afe-bcd5-887e46836ae3"
      },
      "source": [
        "model.compile(optimizer='rmsprop', \n",
        "              loss='binary_crossentropy', \n",
        "              metrics=['accuracy'])\n",
        "\n",
        "history = model.fit(train_generator,\n",
        "                    steps_per_epoch=STEPS_TRAIN,\n",
        "                    epochs=EPOCHS,\n",
        "                    callbacks=[model_checkpoint_callback,\n",
        "                               model_early_stop_callback],\n",
        "                    validation_data=validation_generator,\n",
        "                    validation_steps=STEPS_VAL)"
      ],
      "execution_count": null,
      "outputs": [
        {
          "output_type": "stream",
          "name": "stdout",
          "text": [
            "Epoch 1/100\n",
            "100/100 [==============================] - 38s 348ms/step - loss: 0.4562 - accuracy: 0.7920 - val_loss: 0.4141 - val_accuracy: 0.8130\n",
            "Epoch 2/100\n",
            "100/100 [==============================] - 35s 350ms/step - loss: 0.4228 - accuracy: 0.8075 - val_loss: 0.3829 - val_accuracy: 0.8270\n",
            "Epoch 3/100\n",
            "100/100 [==============================] - 34s 341ms/step - loss: 0.4123 - accuracy: 0.8020 - val_loss: 0.3962 - val_accuracy: 0.8030\n",
            "Epoch 4/100\n",
            "100/100 [==============================] - 33s 334ms/step - loss: 0.4183 - accuracy: 0.8151 - val_loss: 0.3549 - val_accuracy: 0.8410\n",
            "Epoch 5/100\n",
            "100/100 [==============================] - 34s 343ms/step - loss: 0.4106 - accuracy: 0.8131 - val_loss: 0.3868 - val_accuracy: 0.8260\n",
            "Epoch 6/100\n",
            "100/100 [==============================] - 34s 337ms/step - loss: 0.4037 - accuracy: 0.8166 - val_loss: 0.3791 - val_accuracy: 0.8160\n",
            "Epoch 7/100\n",
            "100/100 [==============================] - 34s 343ms/step - loss: 0.4120 - accuracy: 0.8111 - val_loss: 0.3607 - val_accuracy: 0.8230\n",
            "Epoch 8/100\n",
            "100/100 [==============================] - 33s 335ms/step - loss: 0.3988 - accuracy: 0.8221 - val_loss: 0.3523 - val_accuracy: 0.8390\n",
            "Epoch 9/100\n",
            "100/100 [==============================] - 33s 334ms/step - loss: 0.4021 - accuracy: 0.8101 - val_loss: 0.3944 - val_accuracy: 0.8250\n",
            "Epoch 10/100\n",
            "100/100 [==============================] - 33s 330ms/step - loss: 0.3867 - accuracy: 0.8246 - val_loss: 0.3727 - val_accuracy: 0.8330\n",
            "Epoch 11/100\n",
            "100/100 [==============================] - 34s 339ms/step - loss: 0.3929 - accuracy: 0.8201 - val_loss: 0.3271 - val_accuracy: 0.8610\n",
            "Epoch 12/100\n",
            "100/100 [==============================] - 35s 350ms/step - loss: 0.3797 - accuracy: 0.8335 - val_loss: 0.3542 - val_accuracy: 0.8540\n",
            "Epoch 13/100\n",
            "100/100 [==============================] - 34s 341ms/step - loss: 0.3731 - accuracy: 0.8291 - val_loss: 0.3900 - val_accuracy: 0.8480\n",
            "Epoch 14/100\n",
            "100/100 [==============================] - 35s 347ms/step - loss: 0.3841 - accuracy: 0.8302 - val_loss: 0.3817 - val_accuracy: 0.8470\n",
            "Epoch 15/100\n",
            "100/100 [==============================] - 33s 332ms/step - loss: 0.3882 - accuracy: 0.8302 - val_loss: 0.3346 - val_accuracy: 0.8530\n",
            "Epoch 16/100\n",
            "100/100 [==============================] - 33s 333ms/step - loss: 0.3961 - accuracy: 0.8246 - val_loss: 0.3336 - val_accuracy: 0.8510\n",
            "Epoch 17/100\n",
            "100/100 [==============================] - 34s 337ms/step - loss: 0.3806 - accuracy: 0.8332 - val_loss: 0.3080 - val_accuracy: 0.8600\n",
            "Epoch 18/100\n",
            "100/100 [==============================] - 35s 347ms/step - loss: 0.3859 - accuracy: 0.8206 - val_loss: 0.3563 - val_accuracy: 0.8390\n",
            "Epoch 19/100\n",
            "100/100 [==============================] - 33s 335ms/step - loss: 0.3781 - accuracy: 0.8337 - val_loss: 0.3378 - val_accuracy: 0.8590\n",
            "Epoch 20/100\n",
            "100/100 [==============================] - 33s 334ms/step - loss: 0.3812 - accuracy: 0.8340 - val_loss: 0.3286 - val_accuracy: 0.8530\n",
            "Epoch 21/100\n",
            "100/100 [==============================] - 33s 335ms/step - loss: 0.3732 - accuracy: 0.8377 - val_loss: 0.3241 - val_accuracy: 0.8450\n",
            "Epoch 22/100\n",
            "100/100 [==============================] - 34s 340ms/step - loss: 0.3623 - accuracy: 0.8291 - val_loss: 0.3331 - val_accuracy: 0.8480\n",
            "Epoch 23/100\n",
            "100/100 [==============================] - 33s 335ms/step - loss: 0.3835 - accuracy: 0.8367 - val_loss: 0.3196 - val_accuracy: 0.8620\n",
            "Epoch 24/100\n",
            "100/100 [==============================] - 35s 346ms/step - loss: 0.3415 - accuracy: 0.8508 - val_loss: 0.3242 - val_accuracy: 0.8560\n",
            "Epoch 25/100\n",
            "100/100 [==============================] - 34s 342ms/step - loss: 0.3472 - accuracy: 0.8492 - val_loss: 0.3224 - val_accuracy: 0.8710\n",
            "Epoch 26/100\n",
            "100/100 [==============================] - 35s 347ms/step - loss: 0.3716 - accuracy: 0.8332 - val_loss: 0.3265 - val_accuracy: 0.8580\n",
            "Epoch 27/100\n",
            "100/100 [==============================] - 33s 330ms/step - loss: 0.3307 - accuracy: 0.8553 - val_loss: 0.3672 - val_accuracy: 0.8450\n",
            "Epoch 28/100\n",
            "100/100 [==============================] - 34s 340ms/step - loss: 0.3618 - accuracy: 0.8382 - val_loss: 0.3541 - val_accuracy: 0.8600\n",
            "Epoch 29/100\n",
            "100/100 [==============================] - 34s 342ms/step - loss: 0.3699 - accuracy: 0.8372 - val_loss: 0.3146 - val_accuracy: 0.8600\n",
            "Epoch 30/100\n",
            "100/100 [==============================] - 34s 345ms/step - loss: 0.3481 - accuracy: 0.8472 - val_loss: 0.3444 - val_accuracy: 0.8470\n",
            "Epoch 31/100\n",
            "100/100 [==============================] - 35s 347ms/step - loss: 0.3761 - accuracy: 0.8455 - val_loss: 0.3317 - val_accuracy: 0.8660\n",
            "Epoch 32/100\n",
            "100/100 [==============================] - 34s 339ms/step - loss: 0.3514 - accuracy: 0.8533 - val_loss: 0.3036 - val_accuracy: 0.8650\n",
            "Epoch 33/100\n",
            "100/100 [==============================] - 34s 341ms/step - loss: 0.3487 - accuracy: 0.8573 - val_loss: 0.4064 - val_accuracy: 0.8270\n",
            "Epoch 34/100\n",
            "100/100 [==============================] - 33s 328ms/step - loss: 0.3372 - accuracy: 0.8538 - val_loss: 0.4040 - val_accuracy: 0.8290\n",
            "Epoch 35/100\n",
            "100/100 [==============================] - 33s 334ms/step - loss: 0.3633 - accuracy: 0.8508 - val_loss: 0.2954 - val_accuracy: 0.8650\n",
            "Epoch 36/100\n",
            "100/100 [==============================] - 34s 337ms/step - loss: 0.3175 - accuracy: 0.8603 - val_loss: 0.3735 - val_accuracy: 0.8450\n",
            "Epoch 37/100\n",
            "100/100 [==============================] - 33s 327ms/step - loss: 0.3327 - accuracy: 0.8568 - val_loss: 0.2927 - val_accuracy: 0.8830\n",
            "Epoch 38/100\n",
            "100/100 [==============================] - 34s 340ms/step - loss: 0.3246 - accuracy: 0.8568 - val_loss: 0.4031 - val_accuracy: 0.8310\n",
            "Epoch 39/100\n",
            "100/100 [==============================] - 34s 340ms/step - loss: 0.3328 - accuracy: 0.8553 - val_loss: 0.3049 - val_accuracy: 0.8660\n",
            "Epoch 40/100\n",
            "100/100 [==============================] - 34s 345ms/step - loss: 0.3172 - accuracy: 0.8578 - val_loss: 0.3259 - val_accuracy: 0.8640\n",
            "Epoch 41/100\n",
            "100/100 [==============================] - 34s 341ms/step - loss: 0.3361 - accuracy: 0.8638 - val_loss: 0.3164 - val_accuracy: 0.8610\n",
            "Epoch 42/100\n",
            "100/100 [==============================] - 34s 340ms/step - loss: 0.3440 - accuracy: 0.8608 - val_loss: 0.3128 - val_accuracy: 0.8690\n",
            "Epoch 43/100\n",
            "100/100 [==============================] - 34s 335ms/step - loss: 0.3083 - accuracy: 0.8630 - val_loss: 0.2875 - val_accuracy: 0.8670\n",
            "Epoch 44/100\n",
            "100/100 [==============================] - 33s 335ms/step - loss: 0.3281 - accuracy: 0.8538 - val_loss: 0.2847 - val_accuracy: 0.8860\n",
            "Epoch 45/100\n",
            "100/100 [==============================] - 33s 332ms/step - loss: 0.3290 - accuracy: 0.8633 - val_loss: 0.2993 - val_accuracy: 0.8750\n",
            "Epoch 46/100\n",
            "100/100 [==============================] - 33s 331ms/step - loss: 0.3338 - accuracy: 0.8495 - val_loss: 0.2671 - val_accuracy: 0.8790\n",
            "Epoch 47/100\n",
            "100/100 [==============================] - 33s 332ms/step - loss: 0.3219 - accuracy: 0.8615 - val_loss: 0.4041 - val_accuracy: 0.8420\n",
            "Epoch 48/100\n",
            "100/100 [==============================] - 33s 333ms/step - loss: 0.3170 - accuracy: 0.8683 - val_loss: 0.3077 - val_accuracy: 0.8690\n",
            "Epoch 49/100\n",
            "100/100 [==============================] - 33s 332ms/step - loss: 0.3352 - accuracy: 0.8553 - val_loss: 0.3083 - val_accuracy: 0.8700\n",
            "Epoch 50/100\n",
            "100/100 [==============================] - 33s 333ms/step - loss: 0.3095 - accuracy: 0.8710 - val_loss: 0.3017 - val_accuracy: 0.8720\n",
            "Epoch 51/100\n",
            "100/100 [==============================] - 34s 341ms/step - loss: 0.3203 - accuracy: 0.8693 - val_loss: 0.3632 - val_accuracy: 0.8600\n",
            "Epoch 52/100\n",
            "100/100 [==============================] - 34s 336ms/step - loss: 0.3135 - accuracy: 0.8704 - val_loss: 0.3150 - val_accuracy: 0.8780\n",
            "Epoch 53/100\n",
            "100/100 [==============================] - 33s 330ms/step - loss: 0.2997 - accuracy: 0.8724 - val_loss: 0.2890 - val_accuracy: 0.8790\n",
            "Epoch 54/100\n",
            "100/100 [==============================] - 36s 358ms/step - loss: 0.3153 - accuracy: 0.8663 - val_loss: 0.2786 - val_accuracy: 0.8890\n",
            "Epoch 55/100\n",
            "100/100 [==============================] - 33s 334ms/step - loss: 0.3012 - accuracy: 0.8774 - val_loss: 0.2740 - val_accuracy: 0.8760\n",
            "Epoch 56/100\n",
            "100/100 [==============================] - 34s 336ms/step - loss: 0.3027 - accuracy: 0.8779 - val_loss: 0.2692 - val_accuracy: 0.9020\n",
            "Epoch 57/100\n",
            "100/100 [==============================] - 34s 339ms/step - loss: 0.2793 - accuracy: 0.8754 - val_loss: 0.3038 - val_accuracy: 0.8740\n",
            "Epoch 58/100\n",
            "100/100 [==============================] - 33s 330ms/step - loss: 0.3195 - accuracy: 0.8603 - val_loss: 0.2763 - val_accuracy: 0.8840\n",
            "Epoch 59/100\n",
            "100/100 [==============================] - 33s 325ms/step - loss: 0.2949 - accuracy: 0.8804 - val_loss: 0.3098 - val_accuracy: 0.8780\n",
            "Epoch 60/100\n",
            "100/100 [==============================] - 33s 334ms/step - loss: 0.3006 - accuracy: 0.8729 - val_loss: 0.2848 - val_accuracy: 0.8900\n",
            "Epoch 61/100\n",
            "100/100 [==============================] - 34s 340ms/step - loss: 0.3119 - accuracy: 0.8724 - val_loss: 0.2565 - val_accuracy: 0.8880\n",
            "Epoch 62/100\n",
            "100/100 [==============================] - 33s 331ms/step - loss: 0.3075 - accuracy: 0.8714 - val_loss: 0.3241 - val_accuracy: 0.8720\n",
            "Epoch 63/100\n",
            "100/100 [==============================] - 33s 329ms/step - loss: 0.2841 - accuracy: 0.8800 - val_loss: 0.2792 - val_accuracy: 0.8940\n",
            "Epoch 64/100\n",
            "100/100 [==============================] - 33s 331ms/step - loss: 0.2969 - accuracy: 0.8734 - val_loss: 0.2631 - val_accuracy: 0.8930\n",
            "Epoch 65/100\n",
            "100/100 [==============================] - 33s 326ms/step - loss: 0.2852 - accuracy: 0.8789 - val_loss: 0.2991 - val_accuracy: 0.8940\n",
            "Epoch 66/100\n",
            "100/100 [==============================] - 33s 333ms/step - loss: 0.2783 - accuracy: 0.8879 - val_loss: 0.2580 - val_accuracy: 0.8950\n",
            "Epoch 67/100\n",
            "100/100 [==============================] - 33s 330ms/step - loss: 0.2575 - accuracy: 0.8920 - val_loss: 0.2771 - val_accuracy: 0.8890\n",
            "Epoch 68/100\n",
            "100/100 [==============================] - 33s 334ms/step - loss: 0.2858 - accuracy: 0.8829 - val_loss: 0.2614 - val_accuracy: 0.8870\n",
            "Epoch 69/100\n",
            "100/100 [==============================] - 33s 328ms/step - loss: 0.2669 - accuracy: 0.8859 - val_loss: 0.2784 - val_accuracy: 0.8840\n",
            "Epoch 70/100\n",
            "100/100 [==============================] - 33s 334ms/step - loss: 0.3044 - accuracy: 0.8719 - val_loss: 0.2682 - val_accuracy: 0.8950\n",
            "Epoch 71/100\n",
            "100/100 [==============================] - 34s 338ms/step - loss: 0.2770 - accuracy: 0.8869 - val_loss: 0.2601 - val_accuracy: 0.8880\n",
            "Epoch 72/100\n",
            "100/100 [==============================] - 34s 338ms/step - loss: 0.2728 - accuracy: 0.8869 - val_loss: 0.2568 - val_accuracy: 0.8870\n",
            "Epoch 73/100\n",
            "100/100 [==============================] - 34s 339ms/step - loss: 0.2738 - accuracy: 0.8945 - val_loss: 0.2647 - val_accuracy: 0.8930\n",
            "Epoch 74/100\n",
            "100/100 [==============================] - 34s 336ms/step - loss: 0.2951 - accuracy: 0.8864 - val_loss: 0.2661 - val_accuracy: 0.8920\n",
            "Epoch 75/100\n",
            "100/100 [==============================] - 33s 335ms/step - loss: 0.2671 - accuracy: 0.8775 - val_loss: 0.2808 - val_accuracy: 0.8930\n",
            "Epoch 76/100\n",
            "100/100 [==============================] - 34s 339ms/step - loss: 0.2609 - accuracy: 0.8854 - val_loss: 0.2711 - val_accuracy: 0.8950\n",
            "Epoch 77/100\n",
            "100/100 [==============================] - 34s 338ms/step - loss: 0.2803 - accuracy: 0.8849 - val_loss: 0.2525 - val_accuracy: 0.9000\n",
            "Epoch 78/100\n",
            "100/100 [==============================] - 34s 336ms/step - loss: 0.3029 - accuracy: 0.8709 - val_loss: 0.2658 - val_accuracy: 0.8980\n",
            "Epoch 79/100\n",
            "100/100 [==============================] - 33s 331ms/step - loss: 0.2518 - accuracy: 0.8930 - val_loss: 0.2618 - val_accuracy: 0.8960\n",
            "Epoch 80/100\n",
            "100/100 [==============================] - 34s 337ms/step - loss: 0.2814 - accuracy: 0.8889 - val_loss: 0.2554 - val_accuracy: 0.8990\n",
            "Epoch 81/100\n",
            "100/100 [==============================] - 33s 333ms/step - loss: 0.2672 - accuracy: 0.8799 - val_loss: 0.2232 - val_accuracy: 0.9130\n",
            "Epoch 82/100\n",
            "100/100 [==============================] - 35s 346ms/step - loss: 0.2852 - accuracy: 0.8859 - val_loss: 0.2475 - val_accuracy: 0.9010\n",
            "Epoch 83/100\n",
            "100/100 [==============================] - 33s 330ms/step - loss: 0.2726 - accuracy: 0.8839 - val_loss: 0.3351 - val_accuracy: 0.8540\n",
            "Epoch 84/100\n",
            "100/100 [==============================] - 33s 332ms/step - loss: 0.2681 - accuracy: 0.8864 - val_loss: 0.2253 - val_accuracy: 0.9110\n",
            "Epoch 85/100\n",
            "100/100 [==============================] - 35s 351ms/step - loss: 0.2628 - accuracy: 0.8955 - val_loss: 0.2760 - val_accuracy: 0.8870\n",
            "Epoch 86/100\n",
            "100/100 [==============================] - 34s 341ms/step - loss: 0.2598 - accuracy: 0.8945 - val_loss: 0.2815 - val_accuracy: 0.8870\n",
            "Epoch 87/100\n",
            "100/100 [==============================] - 33s 334ms/step - loss: 0.2710 - accuracy: 0.8980 - val_loss: 0.2414 - val_accuracy: 0.9080\n",
            "Epoch 88/100\n",
            "100/100 [==============================] - 34s 336ms/step - loss: 0.2762 - accuracy: 0.8905 - val_loss: 0.2329 - val_accuracy: 0.9110\n",
            "Epoch 89/100\n",
            "100/100 [==============================] - 34s 339ms/step - loss: 0.2472 - accuracy: 0.9035 - val_loss: 0.2518 - val_accuracy: 0.9070\n",
            "Epoch 90/100\n",
            "100/100 [==============================] - 34s 342ms/step - loss: 0.2785 - accuracy: 0.8844 - val_loss: 0.2935 - val_accuracy: 0.8820\n",
            "Epoch 91/100\n",
            "100/100 [==============================] - 33s 334ms/step - loss: 0.2898 - accuracy: 0.8854 - val_loss: 0.2551 - val_accuracy: 0.8950\n",
            "Epoch 92/100\n",
            "100/100 [==============================] - 34s 336ms/step - loss: 0.2611 - accuracy: 0.8870 - val_loss: 0.2334 - val_accuracy: 0.9080\n",
            "Epoch 93/100\n",
            "100/100 [==============================] - 34s 337ms/step - loss: 0.2568 - accuracy: 0.8884 - val_loss: 0.2223 - val_accuracy: 0.9090\n",
            "Epoch 94/100\n",
            "100/100 [==============================] - 33s 330ms/step - loss: 0.2727 - accuracy: 0.8985 - val_loss: 0.2448 - val_accuracy: 0.9060\n",
            "Epoch 95/100\n",
            "100/100 [==============================] - 34s 336ms/step - loss: 0.2565 - accuracy: 0.9030 - val_loss: 0.2271 - val_accuracy: 0.9030\n",
            "Epoch 96/100\n",
            "100/100 [==============================] - 33s 334ms/step - loss: 0.2571 - accuracy: 0.8945 - val_loss: 0.2190 - val_accuracy: 0.9110\n",
            "Epoch 97/100\n",
            "100/100 [==============================] - 33s 335ms/step - loss: 0.2672 - accuracy: 0.8940 - val_loss: 0.2515 - val_accuracy: 0.8940\n",
            "Epoch 98/100\n",
            "100/100 [==============================] - 33s 335ms/step - loss: 0.2501 - accuracy: 0.9050 - val_loss: 0.2395 - val_accuracy: 0.9040\n",
            "Epoch 99/100\n",
            "100/100 [==============================] - 34s 342ms/step - loss: 0.2420 - accuracy: 0.9010 - val_loss: 0.2591 - val_accuracy: 0.8970\n",
            "Epoch 100/100\n",
            "100/100 [==============================] - 34s 336ms/step - loss: 0.2571 - accuracy: 0.8975 - val_loss: 0.2613 - val_accuracy: 0.8950\n"
          ]
        }
      ]
    },
    {
      "cell_type": "code",
      "metadata": {
        "colab": {
          "base_uri": "https://localhost:8080/",
          "height": 545
        },
        "id": "Bp7SUuVLIsiF",
        "outputId": "b6fd5250-3f39-4372-a8bc-9bab399c3079"
      },
      "source": [
        "import matplotlib.pyplot as plt\n",
        "\n",
        "acc = history.history['accuracy']\n",
        "val_acc = history.history['val_accuracy']\n",
        "loss = history.history['loss']\n",
        "val_loss = history.history['val_loss']\n",
        "\n",
        "epochs = range(1, len(acc) + 1)\n",
        "plt.plot(epochs, acc, 'bo', label='Training accuracy')\n",
        "plt.plot(epochs, val_acc, 'b', label='Validation accuracy')\n",
        "plt.title('Training and Validation accuracy')\n",
        "plt.legend()\n",
        "\n",
        "plt.figure()\n",
        "\n",
        "plt.plot(epochs, loss, 'bo', label='Training loss')\n",
        "plt.plot(epochs, val_loss, 'b', label='Validation loss')\n",
        "plt.title('Training and Validation loss')\n",
        "plt.legend()\n",
        "\n",
        "plt.show()"
      ],
      "execution_count": null,
      "outputs": [
        {
          "output_type": "display_data",
          "data": {
            "image/png": "[encoded data removed]",
            "text/plain": [
              "<Figure size 432x288 with 1 Axes>"
            ]
          },
          "metadata": {
            "needs_background": "light"
          }
        },
        {
          "output_type": "display_data",
          "data": {
            "image/png": "[encoded data removed]",
            "text/plain": [
              "<Figure size 432x288 with 1 Axes>"
            ]
          },
          "metadata": {
            "needs_background": "light"
          }
        }
      ]
    },
    {
      "cell_type": "markdown",
      "metadata": {
        "id": "JmXPwNeQDyFc"
      },
      "source": [
        "## ResNetV2 | Trying smth new"
      ]
    },
    {
      "cell_type": "code",
      "metadata": {
        "colab": {
          "base_uri": "https://localhost:8080/"
        },
        "id": "PeFU6wunFDy2",
        "outputId": "29b78be0-4a6a-4ebd-e086-bec4677e70e4"
      },
      "source": [
        "import keras.applications.resnet_v2 as A\n",
        "dir(A)"
      ],
      "execution_count": null,
      "outputs": [
        {
          "output_type": "execute_result",
          "data": {
            "text/plain": [
              "['DOC',\n",
              " 'ResNet101V2',\n",
              " 'ResNet152V2',\n",
              " 'ResNet50V2',\n",
              " '__builtins__',\n",
              " '__cached__',\n",
              " '__doc__',\n",
              " '__file__',\n",
              " '__loader__',\n",
              " '__name__',\n",
              " '__package__',\n",
              " '__spec__',\n",
              " 'decode_predictions',\n",
              " 'imagenet_utils',\n",
              " 'keras_export',\n",
              " 'preprocess_input',\n",
              " 'resnet']"
            ]
          },
          "metadata": {},
          "execution_count": 10
        }
      ]
    },
    {
      "cell_type": "code",
      "metadata": {
        "colab": {
          "base_uri": "https://localhost:8080/"
        },
        "id": "RP5Or_eaD2tk",
        "outputId": "550ccb58-50cf-4f55-b9c7-818d3c8db305"
      },
      "source": [
        "from keras.applications.resnet_v2 import ResNet50V2\n",
        "conv_base = ResNet50V2(weights='imagenet', \n",
        "                       include_top=False, \n",
        "                       input_shape=(150, 150, 3))"
      ],
      "execution_count": null,
      "outputs": [
        {
          "output_type": "stream",
          "name": "stdout",
          "text": [
            "Downloading data from https://storage.googleapis.com/tensorflow/keras-applications/resnet/resnet50v2_weights_tf_dim_ordering_tf_kernels_notop.h5\n",
            "94674944/94668760 [==============================] - 1s 0us/step\n",
            "94683136/94668760 [==============================] - 1s 0us/step\n"
          ]
        }
      ]
    },
    {
      "cell_type": "code",
      "metadata": {
        "colab": {
          "base_uri": "https://localhost:8080/"
        },
        "id": "63RhVOrtD2vo",
        "outputId": "5eabdec5-8cdf-4a1e-99d9-ecc9931a92d0"
      },
      "source": [
        "from keras.layers import Flatten, Dense\n",
        "from keras.models import Sequential\n",
        "\n",
        "model = Sequential()\n",
        "model.add(conv_base)\n",
        "model.add(Flatten())\n",
        "model.add(Dense(128, activation='relu'))\n",
        "model.add(Dense(1, activation='sigmoid'))\n",
        "\n",
        "model.summary()"
      ],
      "execution_count": null,
      "outputs": [
        {
          "output_type": "stream",
          "name": "stdout",
          "text": [
            "Model: \"sequential\"\n",
            "_________________________________________________________________\n",
            "Layer (type)                 Output Shape              Param #   \n",
            "=================================================================\n",
            "resnet50v2 (Functional)      (None, 5, 5, 2048)        23564800  \n",
            "_________________________________________________________________\n",
            "flatten (Flatten)            (None, 51200)             0         \n",
            "_________________________________________________________________\n",
            "dense (Dense)                (None, 128)               6553728   \n",
            "_________________________________________________________________\n",
            "dense_1 (Dense)              (None, 1)                 129       \n",
            "=================================================================\n",
            "Total params: 30,118,657\n",
            "Trainable params: 30,073,217\n",
            "Non-trainable params: 45,440\n",
            "_________________________________________________________________\n"
          ]
        }
      ]
    },
    {
      "cell_type": "code",
      "metadata": {
        "colab": {
          "base_uri": "https://localhost:8080/"
        },
        "id": "n0erNFpRD2xs",
        "outputId": "8a2f2ef4-6d38-465c-c65d-0f321576f57d"
      },
      "source": [
        "print('This is the number of trainable weights', \n",
        "      'before freezing the conv base',\n",
        "      len(model.trainable_weights))\n",
        "\n",
        "conv_base.trainable = False\n",
        "\n",
        "print('This is the number of trainable weights', \n",
        "      'after freezing the conv base',\n",
        "      len(model.trainable_weights))"
      ],
      "execution_count": null,
      "outputs": [
        {
          "output_type": "stream",
          "name": "stdout",
          "text": [
            "This is the number of trainable weights before freezing the conv base 176\n",
            "This is the number of trainable weights after freezing the conv base 4\n"
          ]
        }
      ]
    },
    {
      "cell_type": "code",
      "metadata": {
        "id": "XMEAnCl8D20T"
      },
      "source": [
        "from keras.callbacks import EarlyStopping, ModelCheckpoint\n",
        "\n",
        "new_weights = 'model weights/second_weights_ResNetV2.hdf5'\n",
        "path = '/content/drive/MyDrive/Mushrooms Binary Classification (edible & not)/' + \\\n",
        "        new_weights\n",
        "\n",
        "model_checkpoint_callback = ModelCheckpoint(filepath=path,\n",
        "                                            save_weights_only=True,\n",
        "                                            monitor='val_accuracy',\n",
        "                                            mode='max',\n",
        "                                            save_best_only=True)\n",
        "\n",
        "model_early_stop_callback = EarlyStopping(monitor=\"val_loss\",\n",
        "                                          patience=20,\n",
        "                                          verbose=1,\n",
        "                                          mode=\"min\")"
      ],
      "execution_count": null,
      "outputs": []
    },
    {
      "cell_type": "code",
      "metadata": {
        "id": "nznkFnPOGKEv"
      },
      "source": [
        "EPOCHS = 500\n",
        "STEPS_TRAIN = 100\n",
        "STEPS_VAL = 50"
      ],
      "execution_count": null,
      "outputs": []
    },
    {
      "cell_type": "code",
      "metadata": {
        "colab": {
          "base_uri": "https://localhost:8080/"
        },
        "id": "PrV13cC1GKG2",
        "outputId": "2c80cac3-ee21-4025-b5d8-a91e2d6965b5"
      },
      "source": [
        "model.compile(optimizer='rmsprop', \n",
        "              loss='binary_crossentropy', \n",
        "              metrics=['accuracy'])\n",
        "\n",
        "history = model.fit(train_generator,\n",
        "                    steps_per_epoch=STEPS_TRAIN,\n",
        "                    epochs=EPOCHS,\n",
        "                    callbacks=[model_checkpoint_callback,\n",
        "                               model_early_stop_callback],\n",
        "                    validation_data=validation_generator,\n",
        "                    validation_steps=STEPS_VAL)"
      ],
      "execution_count": null,
      "outputs": [
        {
          "output_type": "stream",
          "name": "stdout",
          "text": [
            "Epoch 1/500\n",
            "100/100 [==============================] - 679s 7s/step - loss: 2.6786 - accuracy: 0.6447 - val_loss: 0.5673 - val_accuracy: 0.6850\n",
            "Epoch 2/500\n",
            "100/100 [==============================] - 102s 1s/step - loss: 0.6578 - accuracy: 0.6663 - val_loss: 0.5740 - val_accuracy: 0.6940\n",
            "Epoch 3/500\n",
            "100/100 [==============================] - 44s 442ms/step - loss: 0.6645 - accuracy: 0.6729 - val_loss: 0.5489 - val_accuracy: 0.7190\n",
            "Epoch 4/500\n",
            "100/100 [==============================] - 36s 361ms/step - loss: 0.6413 - accuracy: 0.6910 - val_loss: 0.5970 - val_accuracy: 0.7310\n",
            "Epoch 5/500\n",
            "100/100 [==============================] - 36s 356ms/step - loss: 0.6023 - accuracy: 0.7025 - val_loss: 0.5247 - val_accuracy: 0.7250\n",
            "Epoch 6/500\n",
            "100/100 [==============================] - 35s 346ms/step - loss: 0.5683 - accuracy: 0.7116 - val_loss: 0.5185 - val_accuracy: 0.7610\n",
            "Epoch 7/500\n",
            "100/100 [==============================] - 35s 351ms/step - loss: 0.5675 - accuracy: 0.7291 - val_loss: 0.4993 - val_accuracy: 0.7580\n",
            "Epoch 8/500\n",
            "100/100 [==============================] - 34s 345ms/step - loss: 0.5679 - accuracy: 0.7410 - val_loss: 0.5150 - val_accuracy: 0.7730\n",
            "Epoch 9/500\n",
            "100/100 [==============================] - 34s 343ms/step - loss: 0.5660 - accuracy: 0.7462 - val_loss: 0.4659 - val_accuracy: 0.7780\n",
            "Epoch 10/500\n",
            "100/100 [==============================] - 35s 347ms/step - loss: 0.5070 - accuracy: 0.7633 - val_loss: 0.4284 - val_accuracy: 0.8080\n",
            "Epoch 11/500\n",
            "100/100 [==============================] - 34s 343ms/step - loss: 0.5062 - accuracy: 0.7663 - val_loss: 0.4585 - val_accuracy: 0.8070\n",
            "Epoch 12/500\n",
            "100/100 [==============================] - 34s 345ms/step - loss: 0.4814 - accuracy: 0.7759 - val_loss: 0.4105 - val_accuracy: 0.8110\n",
            "Epoch 13/500\n",
            "100/100 [==============================] - 35s 347ms/step - loss: 0.4856 - accuracy: 0.7905 - val_loss: 0.4433 - val_accuracy: 0.8250\n",
            "Epoch 14/500\n",
            "100/100 [==============================] - 35s 351ms/step - loss: 0.4722 - accuracy: 0.7829 - val_loss: 0.6782 - val_accuracy: 0.7120\n",
            "Epoch 15/500\n",
            "100/100 [==============================] - 34s 341ms/step - loss: 0.4819 - accuracy: 0.7759 - val_loss: 0.3849 - val_accuracy: 0.8190\n",
            "Epoch 16/500\n",
            "100/100 [==============================] - 35s 345ms/step - loss: 0.4483 - accuracy: 0.7970 - val_loss: 0.3723 - val_accuracy: 0.8360\n",
            "Epoch 17/500\n",
            "100/100 [==============================] - 35s 351ms/step - loss: 0.4398 - accuracy: 0.8070 - val_loss: 0.3582 - val_accuracy: 0.8350\n",
            "Epoch 18/500\n",
            "100/100 [==============================] - 35s 346ms/step - loss: 0.4303 - accuracy: 0.8085 - val_loss: 0.3476 - val_accuracy: 0.8400\n",
            "Epoch 19/500\n",
            "100/100 [==============================] - 35s 354ms/step - loss: 0.4307 - accuracy: 0.8141 - val_loss: 0.3413 - val_accuracy: 0.8400\n",
            "Epoch 20/500\n",
            "100/100 [==============================] - 35s 347ms/step - loss: 0.4057 - accuracy: 0.8276 - val_loss: 0.3346 - val_accuracy: 0.8450\n",
            "Epoch 21/500\n",
            "100/100 [==============================] - 35s 347ms/step - loss: 0.4135 - accuracy: 0.8106 - val_loss: 0.3454 - val_accuracy: 0.8510\n",
            "Epoch 22/500\n",
            "100/100 [==============================] - 35s 350ms/step - loss: 0.3941 - accuracy: 0.8231 - val_loss: 0.3484 - val_accuracy: 0.8640\n",
            "Epoch 23/500\n",
            "100/100 [==============================] - 37s 373ms/step - loss: 0.3925 - accuracy: 0.8347 - val_loss: 0.3531 - val_accuracy: 0.8470\n",
            "Epoch 24/500\n",
            "100/100 [==============================] - 35s 347ms/step - loss: 0.4001 - accuracy: 0.8261 - val_loss: 0.3581 - val_accuracy: 0.8710\n",
            "Epoch 25/500\n",
            "100/100 [==============================] - 35s 349ms/step - loss: 0.3941 - accuracy: 0.8245 - val_loss: 0.3579 - val_accuracy: 0.8360\n",
            "Epoch 26/500\n",
            "100/100 [==============================] - 34s 341ms/step - loss: 0.3755 - accuracy: 0.8372 - val_loss: 0.2793 - val_accuracy: 0.8850\n",
            "Epoch 27/500\n",
            "100/100 [==============================] - 34s 342ms/step - loss: 0.3665 - accuracy: 0.8380 - val_loss: 0.3272 - val_accuracy: 0.8670\n",
            "Epoch 28/500\n",
            "100/100 [==============================] - 35s 347ms/step - loss: 0.3686 - accuracy: 0.8442 - val_loss: 0.3398 - val_accuracy: 0.8580\n",
            "Epoch 29/500\n",
            "100/100 [==============================] - 34s 343ms/step - loss: 0.3867 - accuracy: 0.8377 - val_loss: 0.4081 - val_accuracy: 0.8120\n",
            "Epoch 30/500\n",
            "100/100 [==============================] - 34s 344ms/step - loss: 0.3654 - accuracy: 0.8492 - val_loss: 0.3068 - val_accuracy: 0.8780\n",
            "Epoch 31/500\n",
            "100/100 [==============================] - 34s 343ms/step - loss: 0.3641 - accuracy: 0.8442 - val_loss: 0.3418 - val_accuracy: 0.8690\n",
            "Epoch 32/500\n",
            "100/100 [==============================] - 34s 344ms/step - loss: 0.3505 - accuracy: 0.8492 - val_loss: 0.3134 - val_accuracy: 0.8880\n",
            "Epoch 33/500\n",
            "100/100 [==============================] - 35s 352ms/step - loss: 0.3685 - accuracy: 0.8392 - val_loss: 0.3009 - val_accuracy: 0.8720\n",
            "Epoch 34/500\n",
            "100/100 [==============================] - 35s 350ms/step - loss: 0.3669 - accuracy: 0.8623 - val_loss: 0.2760 - val_accuracy: 0.8840\n",
            "Epoch 35/500\n",
            "100/100 [==============================] - 34s 341ms/step - loss: 0.3871 - accuracy: 0.8462 - val_loss: 0.2671 - val_accuracy: 0.8980\n",
            "Epoch 36/500\n",
            "100/100 [==============================] - 35s 355ms/step - loss: 0.3320 - accuracy: 0.8540 - val_loss: 0.3067 - val_accuracy: 0.8920\n",
            "Epoch 37/500\n",
            "100/100 [==============================] - 34s 345ms/step - loss: 0.3600 - accuracy: 0.8588 - val_loss: 0.2647 - val_accuracy: 0.8860\n",
            "Epoch 38/500\n",
            "100/100 [==============================] - 35s 348ms/step - loss: 0.3589 - accuracy: 0.8603 - val_loss: 0.2761 - val_accuracy: 0.8940\n",
            "Epoch 39/500\n",
            "100/100 [==============================] - 34s 345ms/step - loss: 0.3327 - accuracy: 0.8598 - val_loss: 0.3019 - val_accuracy: 0.8940\n",
            "Epoch 40/500\n",
            "100/100 [==============================] - 34s 343ms/step - loss: 0.2962 - accuracy: 0.8764 - val_loss: 0.3181 - val_accuracy: 0.8970\n",
            "Epoch 41/500\n",
            "100/100 [==============================] - 34s 342ms/step - loss: 0.3272 - accuracy: 0.8633 - val_loss: 0.4117 - val_accuracy: 0.8400\n",
            "Epoch 42/500\n",
            "100/100 [==============================] - 35s 345ms/step - loss: 0.3289 - accuracy: 0.8643 - val_loss: 0.2590 - val_accuracy: 0.9020\n",
            "Epoch 43/500\n",
            "100/100 [==============================] - 35s 347ms/step - loss: 0.3486 - accuracy: 0.8553 - val_loss: 0.2273 - val_accuracy: 0.9080\n",
            "Epoch 44/500\n",
            "100/100 [==============================] - 35s 346ms/step - loss: 0.3312 - accuracy: 0.8673 - val_loss: 0.2351 - val_accuracy: 0.9060\n",
            "Epoch 45/500\n",
            "100/100 [==============================] - 35s 349ms/step - loss: 0.3272 - accuracy: 0.8704 - val_loss: 0.2459 - val_accuracy: 0.9080\n",
            "Epoch 46/500\n",
            "100/100 [==============================] - 34s 344ms/step - loss: 0.3261 - accuracy: 0.8698 - val_loss: 0.2733 - val_accuracy: 0.9000\n",
            "Epoch 47/500\n",
            "100/100 [==============================] - 35s 343ms/step - loss: 0.3340 - accuracy: 0.8668 - val_loss: 0.2644 - val_accuracy: 0.9050\n",
            "Epoch 48/500\n",
            "100/100 [==============================] - 34s 345ms/step - loss: 0.3229 - accuracy: 0.8658 - val_loss: 0.3215 - val_accuracy: 0.8740\n",
            "Epoch 49/500\n",
            "100/100 [==============================] - 34s 339ms/step - loss: 0.3274 - accuracy: 0.8613 - val_loss: 0.2897 - val_accuracy: 0.8930\n",
            "Epoch 50/500\n",
            "100/100 [==============================] - 34s 344ms/step - loss: 0.3030 - accuracy: 0.8835 - val_loss: 0.2503 - val_accuracy: 0.9060\n",
            "Epoch 51/500\n",
            "100/100 [==============================] - 34s 344ms/step - loss: 0.3243 - accuracy: 0.8663 - val_loss: 0.2431 - val_accuracy: 0.9120\n",
            "Epoch 52/500\n",
            "100/100 [==============================] - 35s 349ms/step - loss: 0.3060 - accuracy: 0.8789 - val_loss: 0.2760 - val_accuracy: 0.9000\n",
            "Epoch 53/500\n",
            "100/100 [==============================] - 34s 343ms/step - loss: 0.2989 - accuracy: 0.8739 - val_loss: 0.2336 - val_accuracy: 0.9140\n",
            "Epoch 54/500\n",
            "100/100 [==============================] - 35s 349ms/step - loss: 0.2884 - accuracy: 0.8779 - val_loss: 0.2349 - val_accuracy: 0.9200\n",
            "Epoch 55/500\n",
            "100/100 [==============================] - 35s 351ms/step - loss: 0.2908 - accuracy: 0.8849 - val_loss: 0.3819 - val_accuracy: 0.8660\n",
            "Epoch 56/500\n",
            "100/100 [==============================] - 35s 346ms/step - loss: 0.3166 - accuracy: 0.8809 - val_loss: 0.2448 - val_accuracy: 0.9110\n",
            "Epoch 57/500\n",
            "100/100 [==============================] - 34s 344ms/step - loss: 0.3096 - accuracy: 0.8845 - val_loss: 0.2391 - val_accuracy: 0.9050\n",
            "Epoch 58/500\n",
            "100/100 [==============================] - 35s 346ms/step - loss: 0.3065 - accuracy: 0.8744 - val_loss: 0.2400 - val_accuracy: 0.9170\n",
            "Epoch 59/500\n",
            "100/100 [==============================] - 34s 342ms/step - loss: 0.2975 - accuracy: 0.8794 - val_loss: 0.2343 - val_accuracy: 0.9170\n",
            "Epoch 60/500\n",
            "100/100 [==============================] - 35s 345ms/step - loss: 0.2752 - accuracy: 0.8869 - val_loss: 0.2602 - val_accuracy: 0.9040\n",
            "Epoch 61/500\n",
            "100/100 [==============================] - 35s 345ms/step - loss: 0.3158 - accuracy: 0.8794 - val_loss: 0.2269 - val_accuracy: 0.9180\n",
            "Epoch 62/500\n",
            "100/100 [==============================] - 34s 345ms/step - loss: 0.2819 - accuracy: 0.8920 - val_loss: 0.2340 - val_accuracy: 0.9100\n",
            "Epoch 63/500\n",
            "100/100 [==============================] - 34s 344ms/step - loss: 0.3022 - accuracy: 0.8789 - val_loss: 0.2594 - val_accuracy: 0.9100\n",
            "Epoch 64/500\n",
            "100/100 [==============================] - 35s 345ms/step - loss: 0.2659 - accuracy: 0.8955 - val_loss: 0.2182 - val_accuracy: 0.9200\n",
            "Epoch 65/500\n",
            "100/100 [==============================] - 35s 353ms/step - loss: 0.3079 - accuracy: 0.8724 - val_loss: 0.2230 - val_accuracy: 0.9240\n",
            "Epoch 66/500\n",
            "100/100 [==============================] - 36s 363ms/step - loss: 0.2965 - accuracy: 0.8834 - val_loss: 0.2230 - val_accuracy: 0.9140\n",
            "Epoch 67/500\n",
            "100/100 [==============================] - 35s 350ms/step - loss: 0.2742 - accuracy: 0.8990 - val_loss: 0.2571 - val_accuracy: 0.9130\n",
            "Epoch 68/500\n",
            "100/100 [==============================] - 34s 344ms/step - loss: 0.3059 - accuracy: 0.8839 - val_loss: 0.2335 - val_accuracy: 0.9190\n",
            "Epoch 69/500\n",
            "100/100 [==============================] - 35s 345ms/step - loss: 0.2645 - accuracy: 0.9005 - val_loss: 0.2563 - val_accuracy: 0.9150\n",
            "Epoch 70/500\n",
            "100/100 [==============================] - 35s 351ms/step - loss: 0.2806 - accuracy: 0.8864 - val_loss: 0.2281 - val_accuracy: 0.9170\n",
            "Epoch 71/500\n",
            "100/100 [==============================] - 35s 350ms/step - loss: 0.2912 - accuracy: 0.8915 - val_loss: 0.2367 - val_accuracy: 0.9240\n",
            "Epoch 72/500\n",
            "100/100 [==============================] - 35s 351ms/step - loss: 0.2771 - accuracy: 0.8965 - val_loss: 0.2038 - val_accuracy: 0.9250\n",
            "Epoch 73/500\n",
            "100/100 [==============================] - 36s 357ms/step - loss: 0.2724 - accuracy: 0.8965 - val_loss: 0.1936 - val_accuracy: 0.9270\n",
            "Epoch 74/500\n",
            "100/100 [==============================] - 36s 356ms/step - loss: 0.2610 - accuracy: 0.8970 - val_loss: 0.1951 - val_accuracy: 0.9290\n",
            "Epoch 75/500\n",
            "100/100 [==============================] - 38s 380ms/step - loss: 0.2941 - accuracy: 0.8915 - val_loss: 0.2049 - val_accuracy: 0.9290\n",
            "Epoch 76/500\n",
            "100/100 [==============================] - 36s 356ms/step - loss: 0.2757 - accuracy: 0.8970 - val_loss: 0.1640 - val_accuracy: 0.9380\n",
            "Epoch 77/500\n",
            "100/100 [==============================] - 36s 356ms/step - loss: 0.2721 - accuracy: 0.8945 - val_loss: 0.2506 - val_accuracy: 0.9040\n",
            "Epoch 78/500\n",
            "100/100 [==============================] - 35s 354ms/step - loss: 0.2553 - accuracy: 0.8980 - val_loss: 0.2255 - val_accuracy: 0.9250\n",
            "Epoch 79/500\n",
            "100/100 [==============================] - 35s 349ms/step - loss: 0.2919 - accuracy: 0.8844 - val_loss: 0.1916 - val_accuracy: 0.9380\n",
            "Epoch 80/500\n",
            "100/100 [==============================] - 36s 357ms/step - loss: 0.2827 - accuracy: 0.8995 - val_loss: 0.2365 - val_accuracy: 0.9140\n",
            "Epoch 81/500\n",
            "100/100 [==============================] - 35s 351ms/step - loss: 0.2461 - accuracy: 0.9075 - val_loss: 0.2285 - val_accuracy: 0.9220\n",
            "Epoch 82/500\n",
            "100/100 [==============================] - 35s 349ms/step - loss: 0.2969 - accuracy: 0.8950 - val_loss: 0.1831 - val_accuracy: 0.9290\n",
            "Epoch 83/500\n",
            "100/100 [==============================] - 35s 355ms/step - loss: 0.2481 - accuracy: 0.9005 - val_loss: 0.1848 - val_accuracy: 0.9330\n",
            "Epoch 84/500\n",
            "100/100 [==============================] - 35s 350ms/step - loss: 0.2673 - accuracy: 0.9005 - val_loss: 0.1727 - val_accuracy: 0.9350\n",
            "Epoch 85/500\n",
            "100/100 [==============================] - 36s 360ms/step - loss: 0.2397 - accuracy: 0.9045 - val_loss: 0.2156 - val_accuracy: 0.9310\n",
            "Epoch 86/500\n",
            "100/100 [==============================] - 36s 363ms/step - loss: 0.2386 - accuracy: 0.9111 - val_loss: 0.2350 - val_accuracy: 0.9290\n",
            "Epoch 87/500\n",
            "100/100 [==============================] - 37s 364ms/step - loss: 0.2472 - accuracy: 0.9151 - val_loss: 0.1774 - val_accuracy: 0.9410\n",
            "Epoch 88/500\n",
            "100/100 [==============================] - 37s 371ms/step - loss: 0.2489 - accuracy: 0.9085 - val_loss: 0.1848 - val_accuracy: 0.9390\n",
            "Epoch 89/500\n",
            "100/100 [==============================] - 37s 366ms/step - loss: 0.2502 - accuracy: 0.9085 - val_loss: 0.1809 - val_accuracy: 0.9430\n",
            "Epoch 90/500\n",
            "100/100 [==============================] - 37s 367ms/step - loss: 0.2926 - accuracy: 0.8990 - val_loss: 0.1512 - val_accuracy: 0.9450\n",
            "Epoch 91/500\n",
            "100/100 [==============================] - 37s 369ms/step - loss: 0.2492 - accuracy: 0.9015 - val_loss: 0.1741 - val_accuracy: 0.9370\n",
            "Epoch 92/500\n",
            "100/100 [==============================] - 37s 367ms/step - loss: 0.2456 - accuracy: 0.9126 - val_loss: 0.2130 - val_accuracy: 0.9180\n",
            "Epoch 93/500\n",
            "100/100 [==============================] - 37s 370ms/step - loss: 0.2391 - accuracy: 0.9141 - val_loss: 0.2216 - val_accuracy: 0.9280\n",
            "Epoch 94/500\n",
            "100/100 [==============================] - 36s 364ms/step - loss: 0.2762 - accuracy: 0.9055 - val_loss: 0.1771 - val_accuracy: 0.9360\n",
            "Epoch 95/500\n",
            "100/100 [==============================] - 37s 366ms/step - loss: 0.2772 - accuracy: 0.9035 - val_loss: 0.1703 - val_accuracy: 0.9370\n",
            "Epoch 96/500\n",
            "100/100 [==============================] - 35s 354ms/step - loss: 0.3021 - accuracy: 0.8975 - val_loss: 0.2140 - val_accuracy: 0.9270\n",
            "Epoch 97/500\n",
            "100/100 [==============================] - 35s 352ms/step - loss: 0.2696 - accuracy: 0.9020 - val_loss: 0.1858 - val_accuracy: 0.9320\n",
            "Epoch 98/500\n",
            "100/100 [==============================] - 34s 343ms/step - loss: 0.2517 - accuracy: 0.9141 - val_loss: 0.1499 - val_accuracy: 0.9520\n",
            "Epoch 99/500\n",
            "100/100 [==============================] - 35s 349ms/step - loss: 0.2518 - accuracy: 0.9136 - val_loss: 0.2000 - val_accuracy: 0.9330\n",
            "Epoch 100/500\n",
            "100/100 [==============================] - 33s 334ms/step - loss: 0.2592 - accuracy: 0.9080 - val_loss: 0.2993 - val_accuracy: 0.8990\n",
            "Epoch 101/500\n",
            "100/100 [==============================] - 34s 341ms/step - loss: 0.2347 - accuracy: 0.9136 - val_loss: 0.1585 - val_accuracy: 0.9390\n",
            "Epoch 102/500\n",
            "100/100 [==============================] - 34s 345ms/step - loss: 0.2524 - accuracy: 0.9156 - val_loss: 0.1551 - val_accuracy: 0.9350\n",
            "Epoch 103/500\n",
            "100/100 [==============================] - 34s 344ms/step - loss: 0.2394 - accuracy: 0.9156 - val_loss: 0.1770 - val_accuracy: 0.9310\n",
            "Epoch 104/500\n",
            "100/100 [==============================] - 35s 345ms/step - loss: 0.2667 - accuracy: 0.9075 - val_loss: 0.1694 - val_accuracy: 0.9370\n",
            "Epoch 105/500\n",
            "100/100 [==============================] - 35s 354ms/step - loss: 0.2480 - accuracy: 0.9136 - val_loss: 0.1520 - val_accuracy: 0.9380\n",
            "Epoch 106/500\n",
            "100/100 [==============================] - 36s 356ms/step - loss: 0.2367 - accuracy: 0.9151 - val_loss: 0.1514 - val_accuracy: 0.9480\n",
            "Epoch 107/500\n",
            "100/100 [==============================] - 36s 356ms/step - loss: 0.2362 - accuracy: 0.9211 - val_loss: 0.1906 - val_accuracy: 0.9360\n",
            "Epoch 108/500\n",
            "100/100 [==============================] - 35s 351ms/step - loss: 0.2361 - accuracy: 0.9130 - val_loss: 0.1739 - val_accuracy: 0.9420\n",
            "Epoch 109/500\n",
            "100/100 [==============================] - 36s 356ms/step - loss: 0.2075 - accuracy: 0.9271 - val_loss: 0.1683 - val_accuracy: 0.9430\n",
            "Epoch 110/500\n",
            "100/100 [==============================] - 36s 355ms/step - loss: 0.2502 - accuracy: 0.9146 - val_loss: 0.1647 - val_accuracy: 0.9490\n",
            "Epoch 111/500\n",
            "100/100 [==============================] - 35s 354ms/step - loss: 0.2466 - accuracy: 0.9080 - val_loss: 0.2247 - val_accuracy: 0.9270\n",
            "Epoch 112/500\n",
            "100/100 [==============================] - 35s 355ms/step - loss: 0.2251 - accuracy: 0.9131 - val_loss: 0.1387 - val_accuracy: 0.9530\n",
            "Epoch 113/500\n",
            "100/100 [==============================] - 36s 362ms/step - loss: 0.2449 - accuracy: 0.9095 - val_loss: 0.1805 - val_accuracy: 0.9330\n",
            "Epoch 114/500\n",
            "100/100 [==============================] - 36s 358ms/step - loss: 0.2496 - accuracy: 0.9085 - val_loss: 0.1467 - val_accuracy: 0.9470\n",
            "Epoch 115/500\n",
            "100/100 [==============================] - 36s 356ms/step - loss: 0.2201 - accuracy: 0.9216 - val_loss: 0.1661 - val_accuracy: 0.9440\n",
            "Epoch 116/500\n",
            "100/100 [==============================] - 36s 358ms/step - loss: 0.2303 - accuracy: 0.9191 - val_loss: 0.1501 - val_accuracy: 0.9420\n",
            "Epoch 117/500\n",
            "100/100 [==============================] - 35s 347ms/step - loss: 0.2330 - accuracy: 0.9186 - val_loss: 0.1370 - val_accuracy: 0.9560\n",
            "Epoch 118/500\n",
            "100/100 [==============================] - 36s 357ms/step - loss: 0.2148 - accuracy: 0.9226 - val_loss: 0.1722 - val_accuracy: 0.9410\n",
            "Epoch 119/500\n",
            "100/100 [==============================] - 35s 351ms/step - loss: 0.2440 - accuracy: 0.9171 - val_loss: 0.1384 - val_accuracy: 0.9520\n",
            "Epoch 120/500\n",
            "100/100 [==============================] - 35s 347ms/step - loss: 0.2377 - accuracy: 0.9131 - val_loss: 0.1521 - val_accuracy: 0.9470\n",
            "Epoch 121/500\n",
            "100/100 [==============================] - 35s 354ms/step - loss: 0.2167 - accuracy: 0.9186 - val_loss: 0.1375 - val_accuracy: 0.9510\n",
            "Epoch 122/500\n",
            "100/100 [==============================] - 35s 349ms/step - loss: 0.2172 - accuracy: 0.9191 - val_loss: 0.2090 - val_accuracy: 0.9350\n",
            "Epoch 123/500\n",
            "100/100 [==============================] - 35s 346ms/step - loss: 0.2310 - accuracy: 0.9196 - val_loss: 0.1446 - val_accuracy: 0.9440\n",
            "Epoch 124/500\n",
            "100/100 [==============================] - 35s 349ms/step - loss: 0.2310 - accuracy: 0.9191 - val_loss: 0.1567 - val_accuracy: 0.9480\n",
            "Epoch 125/500\n",
            "100/100 [==============================] - 35s 352ms/step - loss: 0.2093 - accuracy: 0.9250 - val_loss: 0.1550 - val_accuracy: 0.9420\n",
            "Epoch 126/500\n",
            "100/100 [==============================] - 36s 357ms/step - loss: 0.2038 - accuracy: 0.9276 - val_loss: 0.1580 - val_accuracy: 0.9380\n",
            "Epoch 127/500\n",
            "100/100 [==============================] - 36s 357ms/step - loss: 0.2049 - accuracy: 0.9296 - val_loss: 0.1260 - val_accuracy: 0.9530\n",
            "Epoch 128/500\n",
            "100/100 [==============================] - 36s 357ms/step - loss: 0.2126 - accuracy: 0.9211 - val_loss: 0.1563 - val_accuracy: 0.9440\n",
            "Epoch 129/500\n",
            "100/100 [==============================] - 35s 355ms/step - loss: 0.2306 - accuracy: 0.9286 - val_loss: 0.1771 - val_accuracy: 0.9420\n",
            "Epoch 130/500\n",
            "100/100 [==============================] - 36s 354ms/step - loss: 0.2284 - accuracy: 0.9271 - val_loss: 0.1555 - val_accuracy: 0.9420\n",
            "Epoch 131/500\n",
            "100/100 [==============================] - 36s 358ms/step - loss: 0.1962 - accuracy: 0.9251 - val_loss: 0.2246 - val_accuracy: 0.9250\n",
            "Epoch 132/500\n",
            "100/100 [==============================] - 34s 336ms/step - loss: 0.2141 - accuracy: 0.9151 - val_loss: 0.1691 - val_accuracy: 0.9460\n",
            "Epoch 133/500\n",
            "100/100 [==============================] - 35s 347ms/step - loss: 0.2299 - accuracy: 0.9221 - val_loss: 0.1660 - val_accuracy: 0.9450\n",
            "Epoch 134/500\n",
            "100/100 [==============================] - 35s 352ms/step - loss: 0.2172 - accuracy: 0.9166 - val_loss: 0.1693 - val_accuracy: 0.9420\n",
            "Epoch 135/500\n",
            "100/100 [==============================] - 35s 353ms/step - loss: 0.2118 - accuracy: 0.9181 - val_loss: 0.2139 - val_accuracy: 0.9260\n",
            "Epoch 136/500\n",
            "100/100 [==============================] - 34s 343ms/step - loss: 0.1796 - accuracy: 0.9362 - val_loss: 0.1485 - val_accuracy: 0.9380\n",
            "Epoch 137/500\n",
            "100/100 [==============================] - 35s 352ms/step - loss: 0.2162 - accuracy: 0.9226 - val_loss: 0.1917 - val_accuracy: 0.9390\n",
            "Epoch 138/500\n",
            "100/100 [==============================] - 35s 355ms/step - loss: 0.2275 - accuracy: 0.9216 - val_loss: 0.1593 - val_accuracy: 0.9550\n",
            "Epoch 139/500\n",
            "100/100 [==============================] - 35s 351ms/step - loss: 0.2153 - accuracy: 0.9281 - val_loss: 0.1609 - val_accuracy: 0.9470\n",
            "Epoch 140/500\n",
            "100/100 [==============================] - 34s 342ms/step - loss: 0.2056 - accuracy: 0.9296 - val_loss: 0.1848 - val_accuracy: 0.9410\n",
            "Epoch 141/500\n",
            "100/100 [==============================] - 35s 350ms/step - loss: 0.1808 - accuracy: 0.9377 - val_loss: 0.1683 - val_accuracy: 0.9500\n",
            "Epoch 142/500\n",
            "100/100 [==============================] - 35s 352ms/step - loss: 0.2148 - accuracy: 0.9245 - val_loss: 0.1749 - val_accuracy: 0.9460\n",
            "Epoch 143/500\n",
            "100/100 [==============================] - 35s 346ms/step - loss: 0.2274 - accuracy: 0.9291 - val_loss: 0.1849 - val_accuracy: 0.9470\n",
            "Epoch 144/500\n",
            "100/100 [==============================] - 35s 347ms/step - loss: 0.1897 - accuracy: 0.9382 - val_loss: 0.1251 - val_accuracy: 0.9530\n",
            "Epoch 145/500\n",
            "100/100 [==============================] - 34s 345ms/step - loss: 0.1906 - accuracy: 0.9342 - val_loss: 0.1880 - val_accuracy: 0.9470\n",
            "Epoch 146/500\n",
            "100/100 [==============================] - 35s 349ms/step - loss: 0.2092 - accuracy: 0.9271 - val_loss: 0.1378 - val_accuracy: 0.9480\n",
            "Epoch 147/500\n",
            "100/100 [==============================] - 34s 343ms/step - loss: 0.2271 - accuracy: 0.9186 - val_loss: 0.1769 - val_accuracy: 0.9470\n",
            "Epoch 148/500\n",
            "100/100 [==============================] - 35s 350ms/step - loss: 0.2063 - accuracy: 0.9276 - val_loss: 0.1317 - val_accuracy: 0.9580\n",
            "Epoch 149/500\n",
            "100/100 [==============================] - 35s 353ms/step - loss: 0.1912 - accuracy: 0.9347 - val_loss: 0.1443 - val_accuracy: 0.9560\n",
            "Epoch 150/500\n",
            "100/100 [==============================] - 34s 338ms/step - loss: 0.2156 - accuracy: 0.9271 - val_loss: 0.1587 - val_accuracy: 0.9500\n",
            "Epoch 151/500\n",
            "100/100 [==============================] - 34s 341ms/step - loss: 0.2307 - accuracy: 0.9317 - val_loss: 0.1871 - val_accuracy: 0.9470\n",
            "Epoch 152/500\n",
            "100/100 [==============================] - 34s 339ms/step - loss: 0.2332 - accuracy: 0.9286 - val_loss: 0.2172 - val_accuracy: 0.9430\n",
            "Epoch 153/500\n",
            "100/100 [==============================] - 33s 335ms/step - loss: 0.2176 - accuracy: 0.9281 - val_loss: 0.1688 - val_accuracy: 0.9470\n",
            "Epoch 154/500\n",
            "100/100 [==============================] - 34s 338ms/step - loss: 0.1934 - accuracy: 0.9322 - val_loss: 0.1686 - val_accuracy: 0.9430\n",
            "Epoch 155/500\n",
            "100/100 [==============================] - 34s 339ms/step - loss: 0.2218 - accuracy: 0.9281 - val_loss: 0.1205 - val_accuracy: 0.9580\n",
            "Epoch 156/500\n",
            "100/100 [==============================] - 34s 339ms/step - loss: 0.2277 - accuracy: 0.9286 - val_loss: 0.1369 - val_accuracy: 0.9540\n",
            "Epoch 157/500\n",
            "100/100 [==============================] - 34s 344ms/step - loss: 0.1982 - accuracy: 0.9342 - val_loss: 0.1611 - val_accuracy: 0.9510\n",
            "Epoch 158/500\n",
            "100/100 [==============================] - 35s 353ms/step - loss: 0.1972 - accuracy: 0.9370 - val_loss: 0.1363 - val_accuracy: 0.9540\n",
            "Epoch 159/500\n",
            "100/100 [==============================] - 35s 352ms/step - loss: 0.1808 - accuracy: 0.9382 - val_loss: 0.1177 - val_accuracy: 0.9600\n",
            "Epoch 160/500\n",
            "100/100 [==============================] - 35s 347ms/step - loss: 0.2258 - accuracy: 0.9151 - val_loss: 0.1458 - val_accuracy: 0.9510\n",
            "Epoch 161/500\n",
            "100/100 [==============================] - 35s 349ms/step - loss: 0.2137 - accuracy: 0.9345 - val_loss: 0.1813 - val_accuracy: 0.9460\n",
            "Epoch 162/500\n",
            "100/100 [==============================] - 35s 346ms/step - loss: 0.2166 - accuracy: 0.9302 - val_loss: 0.1441 - val_accuracy: 0.9550\n",
            "Epoch 163/500\n",
            "100/100 [==============================] - 34s 341ms/step - loss: 0.1960 - accuracy: 0.9392 - val_loss: 0.0997 - val_accuracy: 0.9630\n",
            "Epoch 164/500\n",
            "100/100 [==============================] - 35s 347ms/step - loss: 0.2050 - accuracy: 0.9302 - val_loss: 0.1315 - val_accuracy: 0.9600\n",
            "Epoch 165/500\n",
            "100/100 [==============================] - 34s 337ms/step - loss: 0.1805 - accuracy: 0.9442 - val_loss: 0.1503 - val_accuracy: 0.9510\n",
            "Epoch 166/500\n",
            "100/100 [==============================] - 34s 341ms/step - loss: 0.2097 - accuracy: 0.9362 - val_loss: 0.1809 - val_accuracy: 0.9390\n",
            "Epoch 167/500\n",
            "100/100 [==============================] - 34s 340ms/step - loss: 0.1969 - accuracy: 0.9302 - val_loss: 0.2171 - val_accuracy: 0.9310\n",
            "Epoch 168/500\n",
            "100/100 [==============================] - 34s 336ms/step - loss: 0.2044 - accuracy: 0.9276 - val_loss: 0.1550 - val_accuracy: 0.9530\n",
            "Epoch 169/500\n",
            "100/100 [==============================] - 35s 352ms/step - loss: 0.1897 - accuracy: 0.9352 - val_loss: 0.1449 - val_accuracy: 0.9540\n",
            "Epoch 170/500\n",
            "100/100 [==============================] - 34s 341ms/step - loss: 0.1947 - accuracy: 0.9367 - val_loss: 0.2285 - val_accuracy: 0.9450\n",
            "Epoch 171/500\n",
            "100/100 [==============================] - 33s 332ms/step - loss: 0.1581 - accuracy: 0.9442 - val_loss: 0.1660 - val_accuracy: 0.9500\n",
            "Epoch 172/500\n",
            "100/100 [==============================] - 33s 333ms/step - loss: 0.2117 - accuracy: 0.9271 - val_loss: 0.1415 - val_accuracy: 0.9530\n",
            "Epoch 173/500\n",
            "100/100 [==============================] - 34s 340ms/step - loss: 0.1955 - accuracy: 0.9347 - val_loss: 0.3886 - val_accuracy: 0.9280\n",
            "Epoch 174/500\n",
            "100/100 [==============================] - 35s 346ms/step - loss: 0.2124 - accuracy: 0.9372 - val_loss: 0.1651 - val_accuracy: 0.9510\n",
            "Epoch 175/500\n",
            "100/100 [==============================] - 35s 346ms/step - loss: 0.1848 - accuracy: 0.9367 - val_loss: 0.1438 - val_accuracy: 0.9590\n",
            "Epoch 176/500\n",
            "100/100 [==============================] - 34s 337ms/step - loss: 0.2074 - accuracy: 0.9412 - val_loss: 0.2208 - val_accuracy: 0.9350\n",
            "Epoch 177/500\n",
            "100/100 [==============================] - 34s 344ms/step - loss: 0.1752 - accuracy: 0.9402 - val_loss: 0.1743 - val_accuracy: 0.9590\n",
            "Epoch 178/500\n",
            "100/100 [==============================] - 35s 344ms/step - loss: 0.1875 - accuracy: 0.9460 - val_loss: 0.1554 - val_accuracy: 0.9540\n",
            "Epoch 179/500\n",
            "100/100 [==============================] - 34s 338ms/step - loss: 0.2064 - accuracy: 0.9337 - val_loss: 0.1316 - val_accuracy: 0.9610\n",
            "Epoch 180/500\n",
            "100/100 [==============================] - 34s 336ms/step - loss: 0.1826 - accuracy: 0.9417 - val_loss: 0.1509 - val_accuracy: 0.9620\n",
            "Epoch 181/500\n",
            "100/100 [==============================] - 34s 336ms/step - loss: 0.1933 - accuracy: 0.9377 - val_loss: 0.1808 - val_accuracy: 0.9550\n",
            "Epoch 182/500\n",
            "100/100 [==============================] - 35s 349ms/step - loss: 0.2344 - accuracy: 0.9317 - val_loss: 0.1297 - val_accuracy: 0.9580\n",
            "Epoch 183/500\n",
            "100/100 [==============================] - 34s 340ms/step - loss: 0.1953 - accuracy: 0.9347 - val_loss: 0.1201 - val_accuracy: 0.9670\n",
            "Epoch 00183: early stopping\n"
          ]
        }
      ]
    },
    {
      "cell_type": "code",
      "metadata": {
        "colab": {
          "base_uri": "https://localhost:8080/",
          "height": 545
        },
        "id": "tpuLlwTTGKIp",
        "outputId": "7e5e363d-7085-415d-c243-9cd8f6f4275f"
      },
      "source": [
        "import matplotlib.pyplot as plt\n",
        "\n",
        "acc = history.history['accuracy']\n",
        "val_acc = history.history['val_accuracy']\n",
        "loss = history.history['loss']\n",
        "val_loss = history.history['val_loss']\n",
        "\n",
        "epochs = range(1, len(acc) + 1)\n",
        "plt.plot(epochs, acc, 'bo', label='Training accuracy')\n",
        "plt.plot(epochs, val_acc, 'b', label='Validation accuracy')\n",
        "plt.title('Training and Validation accuracy')\n",
        "plt.legend()\n",
        "\n",
        "plt.figure()\n",
        "\n",
        "plt.plot(epochs, loss, 'bo', label='Training loss')\n",
        "plt.plot(epochs, val_loss, 'b', label='Validation loss')\n",
        "plt.title('Training and Validation loss')\n",
        "plt.legend()\n",
        "\n",
        "plt.show()"
      ],
      "execution_count": null,
      "outputs": [
        {
          "output_type": "display_data",
          "data": {
            "image/png": "[encoded data removed]",
            "text/plain": [
              "<Figure size 432x288 with 1 Axes>"
            ]
          },
          "metadata": {
            "needs_background": "light"
          }
        },
        {
          "output_type": "display_data",
          "data": {
            "image/png": "[encoded data removed]",
            "text/plain": [
              "<Figure size 432x288 with 1 Axes>"
            ]
          },
          "metadata": {
            "needs_background": "light"
          }
        }
      ]
    },
    {
      "cell_type": "code",
      "metadata": {
        "id": "CRwc2qzgl9Tx"
      },
      "source": [
        "def smooth_curve(points, factor=0.8):\n",
        "    smoothed_points = []\n",
        "    for point in points:\n",
        "        if smoothed_points:\n",
        "            previous = smoothed_points[-1]\n",
        "            smoothed_points.append(previous * factor + point * (1 - factor))\n",
        "        else:\n",
        "            smoothed_points.append(point)\n",
        "    return smoothed_points"
      ],
      "execution_count": null,
      "outputs": []
    },
    {
      "cell_type": "code",
      "metadata": {
        "colab": {
          "base_uri": "https://localhost:8080/",
          "height": 545
        },
        "id": "Vliwhwz9F0vG",
        "outputId": "be45a53e-5d12-4c0c-b773-e14fdf544b41"
      },
      "source": [
        "epochs = range(100, len(acc) + 1)\n",
        "plt.plot(epochs, smooth_curve(acc[99:]), 'bo', label='Training accuracy')\n",
        "plt.plot(epochs, smooth_curve(val_acc[99:]), 'b', label='Validation accuracy')\n",
        "plt.title('Training and Validation accuracy')\n",
        "plt.legend()\n",
        "\n",
        "plt.figure()\n",
        "\n",
        "plt.plot(epochs, smooth_curve(loss[99:]), 'bo', label='Training loss')\n",
        "plt.plot(epochs, smooth_curve(val_loss[99:]), 'b', label='Validation loss')\n",
        "plt.title('Training and Validation loss')\n",
        "plt.legend()\n",
        "\n",
        "plt.show()"
      ],
      "execution_count": null,
      "outputs": [
        {
          "output_type": "display_data",
          "data": {
            "image/png": "[encoded data removed]",
            "text/plain": [
              "<Figure size 432x288 with 1 Axes>"
            ]
          },
          "metadata": {
            "needs_background": "light"
          }
        },
        {
          "output_type": "display_data",
          "data": {
            "image/png": "[encoded data removed]",
            "text/plain": [
              "<Figure size 432x288 with 1 Axes>"
            ]
          },
          "metadata": {
            "needs_background": "light"
          }
        }
      ]
    },
    {
      "cell_type": "markdown",
      "metadata": {
        "id": "kDcfZOfCiLah"
      },
      "source": [
        "## Model Evaluation"
      ]
    },
    {
      "cell_type": "code",
      "metadata": {
        "colab": {
          "base_uri": "https://localhost:8080/"
        },
        "id": "jyhvAxYtVjt8",
        "outputId": "00910f43-a8bc-4e42-b6d8-d6dfd50204fc"
      },
      "source": [
        "weights_path = '/content/drive/MyDrive/Mushrooms Binary Classification (edible & not)'\n",
        "os.listdir(weights_path + '/model weights')"
      ],
      "execution_count": null,
      "outputs": [
        {
          "output_type": "execute_result",
          "data": {
            "text/plain": [
              "['first_weights.hdf5', 'second_weights_ResNetV2.hdf5']"
            ]
          },
          "metadata": {},
          "execution_count": 31
        }
      ]
    },
    {
      "cell_type": "markdown",
      "metadata": {
        "id": "7gkMSaenkzK0"
      },
      "source": [
        "Here we are loading our weights into model"
      ]
    },
    {
      "cell_type": "code",
      "metadata": {
        "id": "6dlXc6p6iQwj"
      },
      "source": [
        "weights = new_weights\n",
        "weights_path = '/content/drive/MyDrive/Mushrooms Binary Classification (edible & not)'\n",
        "model.load_weights(weights_path + '/' + weights)"
      ],
      "execution_count": null,
      "outputs": []
    },
    {
      "cell_type": "markdown",
      "metadata": {
        "id": "gVhlNtDikwof"
      },
      "source": [
        "`Model.predict_generator` is deprecated and will be removed in a future version. Please use `Model.predict`"
      ]
    },
    {
      "cell_type": "code",
      "metadata": {
        "colab": {
          "base_uri": "https://localhost:8080/"
        },
        "id": "acFfN2xojHSJ",
        "outputId": "6abc1f57-0f29-482c-d439-2fece9088949"
      },
      "source": [
        "test_datagen = ImageDataGenerator(rescale=1./255)\n",
        "test_generator = test_datagen.flow_from_directory(\n",
        "    test_dir,\n",
        "    target_size=(150, 150),\n",
        "    batch_size=20,\n",
        "    shuffle=False,\n",
        "    class_mode='binary')\n",
        "\n",
        "n_files = len(test_generator.filenames)\n",
        "y_pred = model.predict_generator(test_generator, steps=n_files)\n",
        "y_true = test_generator.classes"
      ],
      "execution_count": null,
      "outputs": [
        {
          "output_type": "stream",
          "name": "stdout",
          "text": [
            "Found 734 images belonging to 2 classes.\n"
          ]
        },
        {
          "output_type": "stream",
          "name": "stderr",
          "text": [
            "/usr/local/lib/python3.7/dist-packages/keras/engine/training.py:2035: UserWarning: `Model.predict_generator` is deprecated and will be removed in a future version. Please use `Model.predict`, which supports generators.\n",
            "  warnings.warn('`Model.predict_generator` is deprecated and '\n"
          ]
        },
        {
          "output_type": "stream",
          "name": "stdout",
          "text": [
            "WARNING:tensorflow:Your input ran out of data; interrupting training. Make sure that your dataset or generator can generate at least `steps_per_epoch * epochs` batches (in this case, 734 batches). You may need to use the repeat() function when building your dataset.\n"
          ]
        }
      ]
    },
    {
      "cell_type": "code",
      "metadata": {
        "id": "QC8ut8TUIsj9",
        "colab": {
          "base_uri": "https://localhost:8080/"
        },
        "outputId": "721e146c-11a5-47f4-d56a-773a8ef22f45"
      },
      "source": [
        "from sklearn.metrics import classification_report\n",
        "import numpy as np\n",
        "\n",
        "y_pred = np.rint(y_pred.flatten())\n",
        "print(classification_report(y_true, y_pred, target_names=['Edible', 'Inedible']))"
      ],
      "execution_count": null,
      "outputs": [
        {
          "output_type": "stream",
          "name": "stdout",
          "text": [
            "              precision    recall  f1-score   support\n",
            "\n",
            "      Edible       0.97      0.94      0.96       329\n",
            "    Inedible       0.95      0.98      0.96       405\n",
            "\n",
            "    accuracy                           0.96       734\n",
            "   macro avg       0.96      0.96      0.96       734\n",
            "weighted avg       0.96      0.96      0.96       734\n",
            "\n"
          ]
        }
      ]
    },
    {
      "cell_type": "code",
      "metadata": {
        "id": "oEhJJzpgIhx0"
      },
      "source": [
        ""
      ],
      "execution_count": null,
      "outputs": []
    }
  ]
}